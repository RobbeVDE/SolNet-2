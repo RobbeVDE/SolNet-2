{
 "cells": [
  {
   "cell_type": "code",
   "execution_count": 3,
   "metadata": {},
   "outputs": [
    {
     "name": "stdout",
     "output_type": "stream",
     "text": [
      "Gathering data from base location...\n",
      "Gathering data from additional location 1...\n"
     ]
    },
    {
     "ename": "FileNotFoundError",
     "evalue": "[Errno 2] No such file or directory: '../data/dataset_240302_1510.pkl'",
     "output_type": "error",
     "traceback": [
      "\u001b[1;31m---------------------------------------------------------------------------\u001b[0m",
      "\u001b[1;31mFileNotFoundError\u001b[0m                         Traceback (most recent call last)",
      "Cell \u001b[1;32mIn[3], line 15\u001b[0m\n\u001b[0;32m     12\u001b[0m data \u001b[38;5;241m=\u001b[39m DataFetcher(latitude,longitude,peakPower,tilt,azimuth,locations\u001b[38;5;241m=\u001b[39m\u001b[38;5;241m2\u001b[39m)\n\u001b[0;32m     14\u001b[0m \u001b[38;5;66;03m# Save the data in the data folder\u001b[39;00m\n\u001b[1;32m---> 15\u001b[0m path \u001b[38;5;241m=\u001b[39m data\u001b[38;5;241m.\u001b[39msave_data()\n\u001b[0;32m     16\u001b[0m path\n",
      "File \u001b[1;32mc:\\Users\\Robbe\\PycharmProjects\\SolNet 2\\Data\\DataFetcher.py:149\u001b[0m, in \u001b[0;36mDataFetcher.save_data\u001b[1;34m(self, file_name)\u001b[0m\n\u001b[0;32m    147\u001b[0m \u001b[38;5;28;01mif\u001b[39;00m file_name \u001b[38;5;129;01mis\u001b[39;00m \u001b[38;5;28;01mNone\u001b[39;00m:\n\u001b[0;32m    148\u001b[0m     file_name \u001b[38;5;241m=\u001b[39m \u001b[38;5;124mf\u001b[39m\u001b[38;5;124m\"\u001b[39m\u001b[38;5;124mdataset_\u001b[39m\u001b[38;5;132;01m{\u001b[39;00mdate_string\u001b[38;5;132;01m}\u001b[39;00m\u001b[38;5;124m.pkl\u001b[39m\u001b[38;5;124m\"\u001b[39m\n\u001b[1;32m--> 149\u001b[0m \u001b[38;5;28;01mwith\u001b[39;00m \u001b[38;5;28mopen\u001b[39m(\u001b[38;5;124m'\u001b[39m\u001b[38;5;124m../data/\u001b[39m\u001b[38;5;124m'\u001b[39m \u001b[38;5;241m+\u001b[39m file_name, \u001b[38;5;124m\"\u001b[39m\u001b[38;5;124mwb\u001b[39m\u001b[38;5;124m\"\u001b[39m) \u001b[38;5;28;01mas\u001b[39;00m f:\n\u001b[0;32m    150\u001b[0m     pickle\u001b[38;5;241m.\u001b[39mdump(\u001b[38;5;28mself\u001b[39m\u001b[38;5;241m.\u001b[39mdataset, f)\n\u001b[0;32m    152\u001b[0m \u001b[38;5;28;01mreturn\u001b[39;00m file_name\n",
      "\u001b[1;31mFileNotFoundError\u001b[0m: [Errno 2] No such file or directory: '../data/dataset_240302_1510.pkl'"
     ]
    }
   ],
   "source": [
    "# Import the datafetcher class\n",
    "from Data.DataFetcher import DataFetcher\n",
    "\n",
    "# Set parameters\n",
    "latitude = 50\n",
    "longitude = 10\n",
    "peakPower = 2.4\n",
    "tilt = 33\n",
    "azimuth = 0\n",
    "\n",
    "# Fetch data from PVGIS\n",
    "data = DataFetcher(latitude,longitude,peakPower,tilt,azimuth,locations=2)\n",
    "\n",
    "# Save the data in the data folder\n",
    "path = data.save_data()\n",
    "path"
   ]
  },
  {
   "cell_type": "code",
   "execution_count": null,
   "metadata": {},
   "outputs": [],
   "source": [
    "# Show some of the data\n",
    "data.dataset[0].head()"
   ]
  },
  {
   "cell_type": "code",
   "execution_count": null,
   "metadata": {},
   "outputs": [],
   "source": [
    "# Import the featurisation class\n",
    "from src.data.featurisation import Featurisation\n",
    "\n",
    "# Decide on the features to use in making the model (Note that 'P' should always be included since it's the target variable)\n",
    "dataset = Featurisation(data.dataset).base_features(['P', 'Gb(i)', 'T2m'])\n",
    "\n",
    "# Use daily cyclic features as well\n",
    "dataset = Featurisation(dataset).cyclic_features()"
   ]
  },
  {
   "cell_type": "code",
   "execution_count": null,
   "metadata": {},
   "outputs": [],
   "source": [
    "# Show the featurized dataset\n",
    "dataset[0].head()"
   ]
  },
  {
   "cell_type": "code",
   "execution_count": null,
   "metadata": {},
   "outputs": [],
   "source": [
    "# Import the tensorisation class to transform the data into tensors for use in pytorch models\n",
    "from src.tensors.tensorisation import Tensorisation\n",
    "import torch\n",
    "\n",
    "# Get the list of features\n",
    "features = list(dataset[0].columns)\n",
    "lags = 24\n",
    "forecast_period = 24\n",
    "\n",
    "# Get the tensors\n",
    "X_train_tot = torch.empty(0, dtype=torch.float32)\n",
    "X_test_tot = torch.empty(0, dtype=torch.float32)\n",
    "y_train_tot = torch.empty(0, dtype=torch.float32)\n",
    "y_test_tot = torch.empty(0, dtype=torch.float32)\n",
    "\n",
    "for i in range(len(dataset)):\n",
    "    tensors = Tensorisation(dataset[i], 'P', features, lags, forecast_period)\n",
    "    X_train, X_test, y_train, y_test = tensors.tensor_creation()\n",
    "    X_train_tot = torch.concat([X_train_tot, X_train])\n",
    "    X_test_tot = torch.concat([X_test_tot, X_test])\n",
    "    y_train_tot = torch.concat([y_train_tot, y_train])\n",
    "    y_test_tot = torch.concat([y_test_tot, y_test])\n",
    "    \n",
    "X_train_tot.shape, X_test_tot.shape, y_train_tot.shape, y_test_tot.shape"
   ]
  },
  {
   "cell_type": "code",
   "execution_count": null,
   "metadata": {},
   "outputs": [],
   "source": [
    "# Import the lstm class to create an untrained LSTM\n",
    "from src.models.lstm import LSTM\n",
    "\n",
    "# Set the parameters for the lstm\n",
    "input_size = len(features)\n",
    "hidden_size = 100\n",
    "num_layers = 3\n",
    "dropout = 0.3\n",
    "device = torch.device(\"cuda\" if torch.cuda.is_available() else \"cpu\")\n",
    "\n",
    "my_lstm = LSTM(input_size,hidden_size,num_layers, forecast_period, dropout).to(device)\n",
    "my_lstm"
   ]
  },
  {
   "cell_type": "code",
   "execution_count": null,
   "metadata": {},
   "outputs": [],
   "source": [
    "# Import the training class to train the model\n",
    "from src.models.training import Training\n",
    "\n",
    "# Set the training parameters\n",
    "epochs = 50\n",
    "\n",
    "# Initialize the trainer\n",
    "training = Training(my_lstm, X_train_tot, y_train_tot, X_test_tot, y_test_tot, epochs)\n",
    "\n",
    "# Train the model and return the trained parameters and the best iteration\n",
    "state_dict_list, best_epoch = training.fit()"
   ]
  },
  {
   "cell_type": "code",
   "execution_count": null,
   "metadata": {},
   "outputs": [],
   "source": [
    "# Load the state dictionary of the best performing model\n",
    "\n",
    "my_lstm.load_state_dict(state_dict_list[best_epoch])"
   ]
  },
  {
   "cell_type": "code",
   "execution_count": null,
   "metadata": {},
   "outputs": [],
   "source": [
    "# Save the model state dictionary for later use\n",
    "Training.save_model(my_lstm, 'example_model')"
   ]
  },
  {
   "cell_type": "code",
   "execution_count": null,
   "metadata": {},
   "outputs": [],
   "source": [
    "# Forecast with the model\n",
    "forecasts = my_lstm(X_test_tot.to(device))"
   ]
  },
  {
   "cell_type": "code",
   "execution_count": null,
   "metadata": {},
   "outputs": [],
   "source": [
    "# Import the evaluation script\n",
    "from src.evaluation.evaluation import Evaluation\n",
    "\n",
    "# Evaluate the model performance\n",
    "eval = Evaluation(y_test_tot.detach().flatten().numpy(), forecasts.cpu().detach().flatten().numpy())\n",
    "\n",
    "# Show the evaluation metrics\n",
    "eval.metrics()"
   ]
  }
 ],
 "metadata": {
  "kernelspec": {
   "display_name": "SolNet",
   "language": "python",
   "name": "python3"
  },
  "language_info": {
   "codemirror_mode": {
    "name": "ipython",
    "version": 3
   },
   "file_extension": ".py",
   "mimetype": "text/x-python",
   "name": "python",
   "nbconvert_exporter": "python",
   "pygments_lexer": "ipython3",
   "version": "3.11.5"
  },
  "orig_nbformat": 4
 },
 "nbformat": 4,
 "nbformat_minor": 2
}
