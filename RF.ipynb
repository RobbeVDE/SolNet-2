{
 "cells": [
  {
   "cell_type": "code",
   "execution_count": 1,
   "metadata": {},
   "outputs": [
    {
     "name": "stdout",
     "output_type": "stream",
     "text": [
      "Not in Colab environment: Using .pkl files\n"
     ]
    },
    {
     "name": "stderr",
     "output_type": "stream",
     "text": [
      "c:\\Users\\Robbe\\SolNet-2\\Data\\Featurisation.py:226: SettingWithCopyWarning: \n",
      "A value is trying to be set on a copy of a slice from a DataFrame\n",
      "\n",
      "See the caveats in the documentation: https://pandas.pydata.org/pandas-docs/stable/user_guide/indexing.html#returning-a-view-versus-a-copy\n",
      "  dataset[dataset>inverter_rating] = inverter_rating\n"
     ]
    },
    {
     "name": "stdout",
     "output_type": "stream",
     "text": [
      "                                PoA  P_24h_shift  is_day  \\\n",
      "2020-05-01 00:00:00+00:00  0.000000         0.13     0.0   \n",
      "2020-05-01 01:00:00+00:00  0.000000         0.13     0.0   \n",
      "2020-05-01 02:00:00+00:00  0.000000         0.13     0.0   \n",
      "2020-05-01 03:00:00+00:00  0.000000         0.13     0.0   \n",
      "2020-05-01 04:00:00+00:00  0.020166         0.13     0.0   \n",
      "...                             ...          ...     ...   \n",
      "2021-04-30 19:00:00+00:00  0.000000         1.00     1.0   \n",
      "2021-04-30 20:00:00+00:00  0.000000         0.00     0.0   \n",
      "2021-04-30 21:00:00+00:00  0.000000         0.00     0.0   \n",
      "2021-04-30 22:00:00+00:00  0.000000         0.00     0.0   \n",
      "2021-04-30 23:00:00+00:00  0.000000         0.00     0.0   \n",
      "\n",
      "                           relative_humidity_1_5m  diffuse_surface_SW_flux  \\\n",
      "2020-05-01 00:00:00+00:00               89.216026                      0.0   \n",
      "2020-05-01 01:00:00+00:00               89.216026                      0.0   \n",
      "2020-05-01 02:00:00+00:00               89.797699                      0.0   \n",
      "2020-05-01 03:00:00+00:00               88.536499                      0.0   \n",
      "2020-05-01 04:00:00+00:00               88.253693                      0.0   \n",
      "...                                           ...                      ...   \n",
      "2021-04-30 19:00:00+00:00               84.877930                      0.0   \n",
      "2021-04-30 20:00:00+00:00               85.543274                      0.0   \n",
      "2021-04-30 21:00:00+00:00               91.328194                      0.0   \n",
      "2021-04-30 22:00:00+00:00               93.828613                      0.0   \n",
      "2021-04-30 23:00:00+00:00               95.268372                      0.0   \n",
      "\n",
      "                           direct_surface_SW_flux  downward_surface_SW_flux  \\\n",
      "2020-05-01 00:00:00+00:00                    -0.0                       0.0   \n",
      "2020-05-01 01:00:00+00:00                    -0.0                       0.0   \n",
      "2020-05-01 02:00:00+00:00                    -0.0                       0.0   \n",
      "2020-05-01 03:00:00+00:00                    -0.0                       0.0   \n",
      "2020-05-01 04:00:00+00:00                    -0.0                       1.0   \n",
      "...                                           ...                       ...   \n",
      "2021-04-30 19:00:00+00:00                     0.0                       0.0   \n",
      "2021-04-30 20:00:00+00:00                    -0.0                       0.0   \n",
      "2021-04-30 21:00:00+00:00                    -0.0                       0.0   \n",
      "2021-04-30 22:00:00+00:00                    -0.0                       0.0   \n",
      "2021-04-30 23:00:00+00:00                    -0.0                       0.0   \n",
      "\n",
      "                               T_PV  \n",
      "2020-05-01 00:00:00+00:00  4.993273  \n",
      "2020-05-01 01:00:00+00:00  4.993273  \n",
      "2020-05-01 02:00:00+00:00  4.983723  \n",
      "2020-05-01 03:00:00+00:00  4.838132  \n",
      "2020-05-01 04:00:00+00:00  4.587196  \n",
      "...                             ...  \n",
      "2021-04-30 19:00:00+00:00  2.824697  \n",
      "2021-04-30 20:00:00+00:00  2.733210  \n",
      "2021-04-30 21:00:00+00:00  1.011598  \n",
      "2021-04-30 22:00:00+00:00 -0.124815  \n",
      "2021-04-30 23:00:00+00:00 -0.705957  \n",
      "\n",
      "[8712 rows x 8 columns]\n",
      "Training Features Shape: (6534, 8)\n",
      "Training Labels Shape: (6534,)\n",
      "Testing Features Shape: (2178, 8)\n",
      "Testing Labels Shape: (2178,)\n"
     ]
    }
   ],
   "source": [
    "import pandas as pd\n",
    "import numpy as np\n",
    "from Data.Featurisation import data_handeler\n",
    "from sklearn.model_selection import train_test_split\n",
    "from sklearn.ensemble import RandomForestRegressor\n",
    "import os\n",
    "import pickle\n",
    "\n",
    "installation_int = 0\n",
    "_,_,source_data = data_handeler(installation_int, \"nwp\", \"nwp\", \"nwp\")\n",
    "# Labels are the values we want to predict\n",
    "labels = np.array(source_data['P'])\n",
    "# Remove the labels from the source_data\n",
    "# axis 1 refers to the columns\n",
    "source_data= source_data.drop('P', axis = 1)\n",
    "# Saving feature names for later use\n",
    "ftr_file = \"features/ft_phys.pkl\"\n",
    "if os.path.isfile(ftr_file):\n",
    "    with open(ftr_file, 'rb') as f:\n",
    "        feature_list = pickle.load(f)\n",
    "# Convert to numpy array\n",
    "source_data = source_data[feature_list]\n",
    "print(source_data)\n",
    "source_data = np.array(source_data)\n",
    "\n",
    "# Split the data into training and testing sets\n",
    "train_features, test_features, train_labels, test_labels = train_test_split(source_data, labels, test_size = 0.25, random_state = 42)\n",
    "\n",
    "print('Training Features Shape:', train_features.shape)\n",
    "print('Training Labels Shape:', train_labels.shape)\n",
    "print('Testing Features Shape:', test_features.shape)\n",
    "print('Testing Labels Shape:', test_labels.shape)\n",
    "\n"
   ]
  },
  {
   "cell_type": "code",
   "execution_count": 2,
   "metadata": {},
   "outputs": [
    {
     "name": "stdout",
     "output_type": "stream",
     "text": [
      "213.1786161618306 W\n"
     ]
    }
   ],
   "source": [
    "#Instantiate model with 1000 decision trees\n",
    "rf = RandomForestRegressor(n_estimators = 1000, random_state = 42)\n",
    "# Train the model on training data\n",
    "rf.fit(train_features, train_labels)\n",
    "\n",
    "# Use the forest's predict method on the test data\n",
    "predictions = rf.predict(test_features)\n",
    "# Calculate the absolute errors\n",
    "errors = np.sqrt(np.mean(np.square(predictions - test_labels)))\n",
    "# Print out rmse\n",
    "print(errors, 'W')"
   ]
  },
  {
   "cell_type": "code",
   "execution_count": 4,
   "metadata": {},
   "outputs": [
    {
     "name": "stdout",
     "output_type": "stream",
     "text": [
      "Variable: downward_surface_SW_flux Importance: 0.79\n",
      "Variable: PoA                  Importance: 0.09\n",
      "Variable: P_24h_shift          Importance: 0.03\n",
      "Variable: relative_humidity_1_5m Importance: 0.02\n",
      "Variable: diffuse_surface_SW_flux Importance: 0.02\n",
      "Variable: direct_surface_SW_flux Importance: 0.02\n",
      "Variable: T_PV                 Importance: 0.02\n",
      "Variable: is_day               Importance: 0.0\n"
     ]
    },
    {
     "data": {
      "text/plain": [
       "[None, None, None, None, None, None, None, None]"
      ]
     },
     "execution_count": 4,
     "metadata": {},
     "output_type": "execute_result"
    }
   ],
   "source": [
    "# Get numerical feature importances\n",
    "importances = list(rf.feature_importances_)\n",
    "# List of tuples with variable and importance\n",
    "feature_importances = [(feature, round(importance, 2)) for feature, importance in zip(feature_list, importances)]\n",
    "# Sort the feature importances by most important first\n",
    "feature_importances = sorted(feature_importances, key = lambda x: x[1], reverse = True)\n",
    "# Print out the feature and importances \n",
    "[print('Variable: {:20} Importance: {}'.format(*pair)) for pair in feature_importances]"
   ]
  }
 ],
 "metadata": {
  "kernelspec": {
   "display_name": "Python 3.12.2 ('solnet')",
   "language": "python",
   "name": "python3"
  },
  "language_info": {
   "codemirror_mode": {
    "name": "ipython",
    "version": 3
   },
   "file_extension": ".py",
   "mimetype": "text/x-python",
   "name": "python",
   "nbconvert_exporter": "python",
   "pygments_lexer": "ipython3",
   "version": "3.12.2"
  },
  "vscode": {
   "interpreter": {
    "hash": "02543bb0ef14551c549047461536d109a34ccf1dceeb84fa14a9d60c3d57cc93"
   }
  }
 },
 "nbformat": 4,
 "nbformat_minor": 2
}
