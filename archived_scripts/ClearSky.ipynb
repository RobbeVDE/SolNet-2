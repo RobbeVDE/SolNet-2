{
 "cells": [
  {
   "cell_type": "code",
   "execution_count": 1,
   "metadata": {},
   "outputs": [
    {
     "ename": "ModuleNotFoundError",
     "evalue": "No module named 'pvlib'",
     "output_type": "error",
     "traceback": [
      "\u001b[1;31m---------------------------------------------------------------------------\u001b[0m",
      "\u001b[1;31mModuleNotFoundError\u001b[0m                       Traceback (most recent call last)",
      "Cell \u001b[1;32mIn[1], line 2\u001b[0m\n\u001b[0;32m      1\u001b[0m \u001b[38;5;66;03m#We're going to add a clear sky function which will receive a dataframe and then returns a dataframe where the  csi is added with option to remove\u001b[39;00m\n\u001b[1;32m----> 2\u001b[0m \u001b[38;5;28;01mimport\u001b[39;00m \u001b[38;5;21;01mpvlib\u001b[39;00m\n\u001b[0;32m      3\u001b[0m \u001b[38;5;28;01mimport\u001b[39;00m \u001b[38;5;21;01mpandas\u001b[39;00m \u001b[38;5;28;01mas\u001b[39;00m \u001b[38;5;21;01mpd\u001b[39;00m\n\u001b[0;32m      4\u001b[0m \u001b[38;5;28;01mfrom\u001b[39;00m \u001b[38;5;21;01mpvlib\u001b[39;00m\u001b[38;5;21;01m.\u001b[39;00m\u001b[38;5;21;01mpvsystem\u001b[39;00m \u001b[38;5;28;01mimport\u001b[39;00m PVSystem, FixedMount\n",
      "\u001b[1;31mModuleNotFoundError\u001b[0m: No module named 'pvlib'"
     ]
    }
   ],
   "source": [
    "#We're going to add a clear sky function which will receive a dataframe and then returns a dataframe where the  csi is added with option to remove\n",
    "import pvlib\n",
    "import pandas as pd\n",
    "from pvlib.pvsystem import PVSystem, FixedMount\n",
    "\n",
    "from pvlib.modelchain import ModelChain\n",
    "\n",
    "from pvlib.temperature import TEMPERATURE_MODEL_PARAMETERS\n",
    "\n",
    "import matplotlib.pyplot as plt\n",
    "from pvlib.location import Location\n",
    "\n",
    "from pvlib.iotools import read_tmy3\n",
    "\n",
    "latitude = 50.994716\n",
    "longitude = 5.539433\n",
    "tz = 'UTC'\n",
    "peak_power = 2400\n",
    "location = Location(latitude, longitude, tz= tz)\n",
    "start = pd.to_datetime(\"2020-01-01:00-00-00\", format='%Y-%m-%d:%H-%M-%S')\n",
    "end = pd.to_datetime(\"2020-08-31:23-00-00\", format='%Y-%m-%d:%H-%M-%S')\n",
    "freq = '1h'\n",
    "\n",
    "#1. Get clear sky irradiance for location\n",
    "times = pd.date_range(start=start, end=end, freq=freq, tz=tz)\n",
    "cs = location.get_clearsky(times)\n",
    "\n",
    "cs.plot()"
   ]
  },
  {
   "cell_type": "code",
   "execution_count": 35,
   "metadata": {},
   "outputs": [
    {
     "data": {
      "text/plain": [
       "PVSystem:\n",
       "  name: None\n",
       "  Array:\n",
       "    name: None\n",
       "    mount: FixedMount(surface_tilt=0, surface_azimuth=180, racking_model=None, module_height=None)\n",
       "    module: None\n",
       "    albedo: 0.25\n",
       "    module_type: None\n",
       "    temperature_model_parameters: {}\n",
       "    strings: 1\n",
       "    modules_per_string: 1\n",
       "  inverter: None"
      ]
     },
     "execution_count": 35,
     "metadata": {},
     "output_type": "execute_result"
    }
   ],
   "source": [
    "# Substitute solution: make clear sky power just multiple of irradiance\n",
    "module_parameters = {'pdc0': 5000, 'gamma_pdc': -0.004}\n",
    "inverter_parameters = {'pdc0': 5000, 'eta_inv_nom': 0.96}\n",
    "system = PVSystem(module_parameters=module_parameters,\n",
    "                           inverter_parameters=inverter_parameters)\n",
    "system"
   ]
  },
  {
   "cell_type": "code",
   "execution_count": 2,
   "metadata": {},
   "outputs": [],
   "source": [
    "from pvlib.temperature import TEMPERATURE_MODEL_PARAMETERS\n",
    "\n",
    "temperature_model_parameters = TEMPERATURE_MODEL_PARAMETERS['sapm']['open_rack_glass_glass']\n",
    "\n",
    "# load some module and inverter specifications\n",
    "sandia_modules = pvlib.pvsystem.retrieve_sam('SandiaMod')\n",
    "\n",
    "cec_inverters = pvlib.pvsystem.retrieve_sam('cecinverter')\n",
    "\n",
    "sandia_module = sandia_modules['Canadian_Solar_CS5P_220M___2009_']\n",
    "\n",
    "cec_inverter = cec_inverters['ABB__MICRO_0_25_I_OUTD_US_208__208V_']"
   ]
  },
  {
   "cell_type": "code",
   "execution_count": 3,
   "metadata": {},
   "outputs": [
    {
     "data": {
      "text/plain": [
       "10"
      ]
     },
     "execution_count": 3,
     "metadata": {},
     "output_type": "execute_result"
    }
   ],
   "source": [
    "N = round(peak_power/250)\n",
    "N"
   ]
  },
  {
   "cell_type": "code",
   "execution_count": 30,
   "metadata": {},
   "outputs": [
    {
     "name": "stdout",
     "output_type": "stream",
     "text": [
      "ModelChain: \n",
      "  name: None\n",
      "  clearsky_model: ineichen\n",
      "  transposition_model: haydavies\n",
      "  solar_position_method: nrel_numpy\n",
      "  airmass_model: kastenyoung1989\n",
      "  dc_model: sapm\n",
      "  ac_model: sandia_inverter\n",
      "  aoi_model: sapm_aoi_loss\n",
      "  spectral_model: sapm_spectral_loss\n",
      "  temperature_model: sapm_temp\n",
      "  losses_model: no_extra_losses\n"
     ]
    }
   ],
   "source": [
    "# Initialize PV system\n",
    "\n",
    "system = PVSystem(surface_tilt=20, surface_azimuth=200,\n",
    "                  module_parameters=sandia_module,\n",
    "                  modules_per_string=N,\n",
    "                  inverter_parameters=cec_inverter,\n",
    "                  temperature_model_parameters=temperature_model_parameters)\n",
    "\n",
    "\n",
    "\n",
    "mc = ModelChain(system, location)\n",
    "print(mc)"
   ]
  },
  {
   "cell_type": "code",
   "execution_count": 31,
   "metadata": {},
   "outputs": [],
   "source": [
    "mc.results.dc"
   ]
  },
  {
   "cell_type": "code",
   "execution_count": 45,
   "metadata": {},
   "outputs": [
    {
     "data": {
      "text/plain": [
       "<Axes: >"
      ]
     },
     "execution_count": 45,
     "metadata": {},
     "output_type": "execute_result"
    },
    {
     "data": {
      "image/png": "[encoded data removed]",
      "text/plain": [
       "<Figure size 640x480 with 1 Axes>"
      ]
     },
     "metadata": {},
     "output_type": "display_data"
    }
   ],
   "source": [
    "#Run for CSI as irradiance\n",
    "mc.run_model(cs)\n",
    "csi_power = mc.results.dc[\"p_mp\"]\n",
    "csi_power.plot()"
   ]
  },
  {
   "cell_type": "code",
   "execution_count": 46,
   "metadata": {},
   "outputs": [
    {
     "data": {
      "text/html": [
       "<div>\n",
       "<style scoped>\n",
       "    .dataframe tbody tr th:only-of-type {\n",
       "        vertical-align: middle;\n",
       "    }\n",
       "\n",
       "    .dataframe tbody tr th {\n",
       "        vertical-align: top;\n",
       "    }\n",
       "\n",
       "    .dataframe thead th {\n",
       "        text-align: right;\n",
       "    }\n",
       "</style>\n",
       "<table border=\"1\" class=\"dataframe\">\n",
       "  <thead>\n",
       "    <tr style=\"text-align: right;\">\n",
       "      <th></th>\n",
       "      <th>p_mp</th>\n",
       "    </tr>\n",
       "  </thead>\n",
       "  <tbody>\n",
       "    <tr>\n",
       "      <th>2020-01-01 00:00:00+00:00</th>\n",
       "      <td>0.0</td>\n",
       "    </tr>\n",
       "    <tr>\n",
       "      <th>2020-01-01 01:00:00+00:00</th>\n",
       "      <td>0.0</td>\n",
       "    </tr>\n",
       "    <tr>\n",
       "      <th>2020-01-01 02:00:00+00:00</th>\n",
       "      <td>0.0</td>\n",
       "    </tr>\n",
       "    <tr>\n",
       "      <th>2020-01-01 03:00:00+00:00</th>\n",
       "      <td>0.0</td>\n",
       "    </tr>\n",
       "    <tr>\n",
       "      <th>2020-01-01 04:00:00+00:00</th>\n",
       "      <td>0.0</td>\n",
       "    </tr>\n",
       "  </tbody>\n",
       "</table>\n",
       "</div>"
      ],
      "text/plain": [
       "                           p_mp\n",
       "2020-01-01 00:00:00+00:00   0.0\n",
       "2020-01-01 01:00:00+00:00   0.0\n",
       "2020-01-01 02:00:00+00:00   0.0\n",
       "2020-01-01 03:00:00+00:00   0.0\n",
       "2020-01-01 04:00:00+00:00   0.0"
      ]
     },
     "execution_count": 46,
     "metadata": {},
     "output_type": "execute_result"
    }
   ],
   "source": [
    "csi_power = pd.DataFrame(csi_power)\n",
    "csi_power.head()"
   ]
  },
  {
   "cell_type": "code",
   "execution_count": 43,
   "metadata": {},
   "outputs": [
    {
     "name": "stdout",
     "output_type": "stream",
     "text": [
      "                       P  Gb(i)  Gd(i)  Gr(i)  H_sun   T2m  WS10m  Int\n",
      "time                                                                  \n",
      "2005-01-01 00:00:00  0.0    0.0    0.0    0.0    0.0  7.61   2.41    0\n",
      "2005-01-01 01:00:00  0.0    0.0    0.0    0.0    0.0  7.01   2.28    0\n",
      "2005-01-01 02:00:00  0.0    0.0    0.0    0.0    0.0  6.43   2.28    0\n",
      "2005-01-01 03:00:00  0.0    0.0    0.0    0.0    0.0  5.82   2.00    0\n",
      "2005-01-01 04:00:00  0.0    0.0    0.0    0.0    0.0  5.44   1.45    0\n",
      "...                  ...    ...    ...    ...    ...   ...    ...  ...\n",
      "2020-12-31 19:00:00  0.0    0.0    0.0    0.0    0.0  2.20   1.72    0\n",
      "2020-12-31 20:00:00  0.0    0.0    0.0    0.0    0.0  2.12   1.72    0\n",
      "2020-12-31 21:00:00  0.0    0.0    0.0    0.0    0.0  2.01   1.72    0\n",
      "2020-12-31 22:00:00  0.0    0.0    0.0    0.0    0.0  1.97   1.79    0\n",
      "2020-12-31 23:00:00  0.0    0.0    0.0    0.0    0.0  1.94   1.86    0\n",
      "\n",
      "[140256 rows x 8 columns]\n"
     ]
    },
    {
     "data": {
      "text/html": [
       "<div>\n",
       "<style scoped>\n",
       "    .dataframe tbody tr th:only-of-type {\n",
       "        vertical-align: middle;\n",
       "    }\n",
       "\n",
       "    .dataframe tbody tr th {\n",
       "        vertical-align: top;\n",
       "    }\n",
       "\n",
       "    .dataframe thead th {\n",
       "        text-align: right;\n",
       "    }\n",
       "</style>\n",
       "<table border=\"1\" class=\"dataframe\">\n",
       "  <thead>\n",
       "    <tr style=\"text-align: right;\">\n",
       "      <th></th>\n",
       "      <th>P</th>\n",
       "    </tr>\n",
       "    <tr>\n",
       "      <th>time</th>\n",
       "      <th></th>\n",
       "    </tr>\n",
       "  </thead>\n",
       "  <tbody>\n",
       "    <tr>\n",
       "      <th>2020-01-01 00:00:00</th>\n",
       "      <td>0.0</td>\n",
       "    </tr>\n",
       "    <tr>\n",
       "      <th>2020-01-01 01:00:00</th>\n",
       "      <td>0.0</td>\n",
       "    </tr>\n",
       "    <tr>\n",
       "      <th>2020-01-01 02:00:00</th>\n",
       "      <td>0.0</td>\n",
       "    </tr>\n",
       "    <tr>\n",
       "      <th>2020-01-01 03:00:00</th>\n",
       "      <td>0.0</td>\n",
       "    </tr>\n",
       "    <tr>\n",
       "      <th>2020-01-01 04:00:00</th>\n",
       "      <td>0.0</td>\n",
       "    </tr>\n",
       "  </tbody>\n",
       "</table>\n",
       "</div>"
      ],
      "text/plain": [
       "                       P\n",
       "time                    \n",
       "2020-01-01 00:00:00  0.0\n",
       "2020-01-01 01:00:00  0.0\n",
       "2020-01-01 02:00:00  0.0\n",
       "2020-01-01 03:00:00  0.0\n",
       "2020-01-01 04:00:00  0.0"
      ]
     },
     "execution_count": 43,
     "metadata": {},
     "output_type": "execute_result"
    }
   ],
   "source": [
    "pvgis = pd.read_pickle(\"Data/PVGIS.pickle\")\n",
    "print(pvgis)\n",
    "\n",
    "\n",
    "pv_power = pvgis.xs('P', axis=1)\n",
    "pv_power = pv_power['2020-01-01': '2020-08-31']\n",
    "pv_power = pd.DataFrame(pv_power)\n",
    "pv_power.head()"
   ]
  },
  {
   "cell_type": "code",
   "execution_count": 38,
   "metadata": {},
   "outputs": [
    {
     "data": {
      "text/plain": [
       "p_mp      56.813775\n",
       "P          0.000000\n",
       "substr     0.023672\n",
       "divis      0.000000\n",
       "Name: 2020-08-19 18:00:00+00:00, dtype: float64"
      ]
     },
     "execution_count": 38,
     "metadata": {},
     "output_type": "execute_result"
    }
   ],
   "source": [
    "test.divis.idxmax()\n",
    "\n",
    "date = pd.to_datetime('2020-08-19 18:00:00+0000', utc=True)\n",
    "test.loc[date]"
   ]
  },
  {
   "cell_type": "code",
   "execution_count": 47,
   "metadata": {},
   "outputs": [
    {
     "ename": "TypeError",
     "evalue": "Cannot join tz-naive with tz-aware DatetimeIndex",
     "output_type": "error",
     "traceback": [
      "\u001b[1;31m---------------------------------------------------------------------------\u001b[0m",
      "\u001b[1;31mTypeError\u001b[0m                                 Traceback (most recent call last)",
      "Cell \u001b[1;32mIn[47], line 1\u001b[0m\n\u001b[1;32m----> 1\u001b[0m test \u001b[38;5;241m=\u001b[39m pd\u001b[38;5;241m.\u001b[39mmerge(csi_power, pv_power, left_index \u001b[38;5;241m=\u001b[39m \u001b[38;5;28;01mTrue\u001b[39;00m, right_index \u001b[38;5;241m=\u001b[39m \u001b[38;5;28;01mTrue\u001b[39;00m)\n\u001b[0;32m      2\u001b[0m test[\u001b[38;5;124m'\u001b[39m\u001b[38;5;124msubstr\u001b[39m\u001b[38;5;124m'\u001b[39m] \u001b[38;5;241m=\u001b[39m (test[\u001b[38;5;124m\"\u001b[39m\u001b[38;5;124mp_mp\u001b[39m\u001b[38;5;124m\"\u001b[39m]\u001b[38;5;241m-\u001b[39mtest[\u001b[38;5;124m\"\u001b[39m\u001b[38;5;124mP\u001b[39m\u001b[38;5;124m\"\u001b[39m])\u001b[38;5;241m/\u001b[39mpeak_power\n\u001b[0;32m      3\u001b[0m test[\u001b[38;5;124m'\u001b[39m\u001b[38;5;124mdivis\u001b[39m\u001b[38;5;124m'\u001b[39m] \u001b[38;5;241m=\u001b[39m test[\u001b[38;5;124m\"\u001b[39m\u001b[38;5;124mP\u001b[39m\u001b[38;5;124m\"\u001b[39m]\u001b[38;5;241m/\u001b[39mtest[\u001b[38;5;124m\"\u001b[39m\u001b[38;5;124mp_mp\u001b[39m\u001b[38;5;124m\"\u001b[39m]\n",
      "File \u001b[1;32mc:\\Users\\Robbe\\anaconda3\\Lib\\site-packages\\pandas\\core\\reshape\\merge.py:162\u001b[0m, in \u001b[0;36mmerge\u001b[1;34m(left, right, how, on, left_on, right_on, left_index, right_index, sort, suffixes, copy, indicator, validate)\u001b[0m\n\u001b[0;32m    131\u001b[0m \u001b[38;5;129m@Substitution\u001b[39m(\u001b[38;5;124m\"\u001b[39m\u001b[38;5;130;01m\\n\u001b[39;00m\u001b[38;5;124mleft : DataFrame or named Series\u001b[39m\u001b[38;5;124m\"\u001b[39m)\n\u001b[0;32m    132\u001b[0m \u001b[38;5;129m@Appender\u001b[39m(_merge_doc, indents\u001b[38;5;241m=\u001b[39m\u001b[38;5;241m0\u001b[39m)\n\u001b[0;32m    133\u001b[0m \u001b[38;5;28;01mdef\u001b[39;00m \u001b[38;5;21mmerge\u001b[39m(\n\u001b[1;32m   (...)\u001b[0m\n\u001b[0;32m    146\u001b[0m     validate: \u001b[38;5;28mstr\u001b[39m \u001b[38;5;241m|\u001b[39m \u001b[38;5;28;01mNone\u001b[39;00m \u001b[38;5;241m=\u001b[39m \u001b[38;5;28;01mNone\u001b[39;00m,\n\u001b[0;32m    147\u001b[0m ) \u001b[38;5;241m-\u001b[39m\u001b[38;5;241m>\u001b[39m DataFrame:\n\u001b[0;32m    148\u001b[0m     op \u001b[38;5;241m=\u001b[39m _MergeOperation(\n\u001b[0;32m    149\u001b[0m         left,\n\u001b[0;32m    150\u001b[0m         right,\n\u001b[1;32m   (...)\u001b[0m\n\u001b[0;32m    160\u001b[0m         validate\u001b[38;5;241m=\u001b[39mvalidate,\n\u001b[0;32m    161\u001b[0m     )\n\u001b[1;32m--> 162\u001b[0m     \u001b[38;5;28;01mreturn\u001b[39;00m op\u001b[38;5;241m.\u001b[39mget_result(copy\u001b[38;5;241m=\u001b[39mcopy)\n",
      "File \u001b[1;32mc:\\Users\\Robbe\\anaconda3\\Lib\\site-packages\\pandas\\core\\reshape\\merge.py:809\u001b[0m, in \u001b[0;36m_MergeOperation.get_result\u001b[1;34m(self, copy)\u001b[0m\n\u001b[0;32m    806\u001b[0m \u001b[38;5;28;01mif\u001b[39;00m \u001b[38;5;28mself\u001b[39m\u001b[38;5;241m.\u001b[39mindicator:\n\u001b[0;32m    807\u001b[0m     \u001b[38;5;28mself\u001b[39m\u001b[38;5;241m.\u001b[39mleft, \u001b[38;5;28mself\u001b[39m\u001b[38;5;241m.\u001b[39mright \u001b[38;5;241m=\u001b[39m \u001b[38;5;28mself\u001b[39m\u001b[38;5;241m.\u001b[39m_indicator_pre_merge(\u001b[38;5;28mself\u001b[39m\u001b[38;5;241m.\u001b[39mleft, \u001b[38;5;28mself\u001b[39m\u001b[38;5;241m.\u001b[39mright)\n\u001b[1;32m--> 809\u001b[0m join_index, left_indexer, right_indexer \u001b[38;5;241m=\u001b[39m \u001b[38;5;28mself\u001b[39m\u001b[38;5;241m.\u001b[39m_get_join_info()\n\u001b[0;32m    811\u001b[0m result \u001b[38;5;241m=\u001b[39m \u001b[38;5;28mself\u001b[39m\u001b[38;5;241m.\u001b[39m_reindex_and_concat(\n\u001b[0;32m    812\u001b[0m     join_index, left_indexer, right_indexer, copy\u001b[38;5;241m=\u001b[39mcopy\n\u001b[0;32m    813\u001b[0m )\n\u001b[0;32m    814\u001b[0m result \u001b[38;5;241m=\u001b[39m result\u001b[38;5;241m.\u001b[39m__finalize__(\u001b[38;5;28mself\u001b[39m, method\u001b[38;5;241m=\u001b[39m\u001b[38;5;28mself\u001b[39m\u001b[38;5;241m.\u001b[39m_merge_type)\n",
      "File \u001b[1;32mc:\\Users\\Robbe\\anaconda3\\Lib\\site-packages\\pandas\\core\\reshape\\merge.py:1051\u001b[0m, in \u001b[0;36m_MergeOperation._get_join_info\u001b[1;34m(self)\u001b[0m\n\u001b[0;32m   1048\u001b[0m right_ax \u001b[38;5;241m=\u001b[39m \u001b[38;5;28mself\u001b[39m\u001b[38;5;241m.\u001b[39mright\u001b[38;5;241m.\u001b[39maxes[\u001b[38;5;28mself\u001b[39m\u001b[38;5;241m.\u001b[39maxis]\n\u001b[0;32m   1050\u001b[0m \u001b[38;5;28;01mif\u001b[39;00m \u001b[38;5;28mself\u001b[39m\u001b[38;5;241m.\u001b[39mleft_index \u001b[38;5;129;01mand\u001b[39;00m \u001b[38;5;28mself\u001b[39m\u001b[38;5;241m.\u001b[39mright_index \u001b[38;5;129;01mand\u001b[39;00m \u001b[38;5;28mself\u001b[39m\u001b[38;5;241m.\u001b[39mhow \u001b[38;5;241m!=\u001b[39m \u001b[38;5;124m\"\u001b[39m\u001b[38;5;124masof\u001b[39m\u001b[38;5;124m\"\u001b[39m:\n\u001b[1;32m-> 1051\u001b[0m     join_index, left_indexer, right_indexer \u001b[38;5;241m=\u001b[39m left_ax\u001b[38;5;241m.\u001b[39mjoin(\n\u001b[0;32m   1052\u001b[0m         right_ax, how\u001b[38;5;241m=\u001b[39m\u001b[38;5;28mself\u001b[39m\u001b[38;5;241m.\u001b[39mhow, return_indexers\u001b[38;5;241m=\u001b[39m\u001b[38;5;28;01mTrue\u001b[39;00m, sort\u001b[38;5;241m=\u001b[39m\u001b[38;5;28mself\u001b[39m\u001b[38;5;241m.\u001b[39msort\n\u001b[0;32m   1053\u001b[0m     )\n\u001b[0;32m   1055\u001b[0m \u001b[38;5;28;01melif\u001b[39;00m \u001b[38;5;28mself\u001b[39m\u001b[38;5;241m.\u001b[39mright_index \u001b[38;5;129;01mand\u001b[39;00m \u001b[38;5;28mself\u001b[39m\u001b[38;5;241m.\u001b[39mhow \u001b[38;5;241m==\u001b[39m \u001b[38;5;124m\"\u001b[39m\u001b[38;5;124mleft\u001b[39m\u001b[38;5;124m\"\u001b[39m:\n\u001b[0;32m   1056\u001b[0m     join_index, left_indexer, right_indexer \u001b[38;5;241m=\u001b[39m _left_join_on_index(\n\u001b[0;32m   1057\u001b[0m         left_ax, right_ax, \u001b[38;5;28mself\u001b[39m\u001b[38;5;241m.\u001b[39mleft_join_keys, sort\u001b[38;5;241m=\u001b[39m\u001b[38;5;28mself\u001b[39m\u001b[38;5;241m.\u001b[39msort\n\u001b[0;32m   1058\u001b[0m     )\n",
      "File \u001b[1;32mc:\\Users\\Robbe\\anaconda3\\Lib\\site-packages\\pandas\\core\\indexes\\base.py:259\u001b[0m, in \u001b[0;36m_maybe_return_indexers.<locals>.join\u001b[1;34m(self, other, how, level, return_indexers, sort)\u001b[0m\n\u001b[0;32m    249\u001b[0m \u001b[38;5;129m@functools\u001b[39m\u001b[38;5;241m.\u001b[39mwraps(meth)\n\u001b[0;32m    250\u001b[0m \u001b[38;5;28;01mdef\u001b[39;00m \u001b[38;5;21mjoin\u001b[39m(\n\u001b[0;32m    251\u001b[0m     \u001b[38;5;28mself\u001b[39m,\n\u001b[1;32m   (...)\u001b[0m\n\u001b[0;32m    257\u001b[0m     sort: \u001b[38;5;28mbool\u001b[39m \u001b[38;5;241m=\u001b[39m \u001b[38;5;28;01mFalse\u001b[39;00m,\n\u001b[0;32m    258\u001b[0m ):\n\u001b[1;32m--> 259\u001b[0m     join_index, lidx, ridx \u001b[38;5;241m=\u001b[39m meth(\u001b[38;5;28mself\u001b[39m, other, how\u001b[38;5;241m=\u001b[39mhow, level\u001b[38;5;241m=\u001b[39mlevel, sort\u001b[38;5;241m=\u001b[39msort)\n\u001b[0;32m    260\u001b[0m     \u001b[38;5;28;01mif\u001b[39;00m \u001b[38;5;129;01mnot\u001b[39;00m return_indexers:\n\u001b[0;32m    261\u001b[0m         \u001b[38;5;28;01mreturn\u001b[39;00m join_index\n",
      "File \u001b[1;32mc:\\Users\\Robbe\\anaconda3\\Lib\\site-packages\\pandas\\core\\indexes\\base.py:4436\u001b[0m, in \u001b[0;36mIndex.join\u001b[1;34m(self, other, how, level, return_indexers, sort)\u001b[0m\n\u001b[0;32m   4433\u001b[0m \u001b[38;5;28;01mif\u001b[39;00m \u001b[38;5;28misinstance\u001b[39m(\u001b[38;5;28mself\u001b[39m, ABCDatetimeIndex) \u001b[38;5;129;01mand\u001b[39;00m \u001b[38;5;28misinstance\u001b[39m(other, ABCDatetimeIndex):\n\u001b[0;32m   4434\u001b[0m     \u001b[38;5;28;01mif\u001b[39;00m (\u001b[38;5;28mself\u001b[39m\u001b[38;5;241m.\u001b[39mtz \u001b[38;5;129;01mis\u001b[39;00m \u001b[38;5;28;01mNone\u001b[39;00m) \u001b[38;5;241m^\u001b[39m (other\u001b[38;5;241m.\u001b[39mtz \u001b[38;5;129;01mis\u001b[39;00m \u001b[38;5;28;01mNone\u001b[39;00m):\n\u001b[0;32m   4435\u001b[0m         \u001b[38;5;66;03m# Raise instead of casting to object below.\u001b[39;00m\n\u001b[1;32m-> 4436\u001b[0m         \u001b[38;5;28;01mraise\u001b[39;00m \u001b[38;5;167;01mTypeError\u001b[39;00m(\u001b[38;5;124m\"\u001b[39m\u001b[38;5;124mCannot join tz-naive with tz-aware DatetimeIndex\u001b[39m\u001b[38;5;124m\"\u001b[39m)\n\u001b[0;32m   4438\u001b[0m \u001b[38;5;28;01mif\u001b[39;00m \u001b[38;5;129;01mnot\u001b[39;00m \u001b[38;5;28mself\u001b[39m\u001b[38;5;241m.\u001b[39m_is_multi \u001b[38;5;129;01mand\u001b[39;00m \u001b[38;5;129;01mnot\u001b[39;00m other\u001b[38;5;241m.\u001b[39m_is_multi:\n\u001b[0;32m   4439\u001b[0m     \u001b[38;5;66;03m# We have specific handling for MultiIndex below\u001b[39;00m\n\u001b[0;32m   4440\u001b[0m     pself, pother \u001b[38;5;241m=\u001b[39m \u001b[38;5;28mself\u001b[39m\u001b[38;5;241m.\u001b[39m_maybe_promote(other)\n",
      "\u001b[1;31mTypeError\u001b[0m: Cannot join tz-naive with tz-aware DatetimeIndex"
     ]
    }
   ],
   "source": [
    "test = pd.merge(csi_power, pv_power, left_index = True, right_index = True)\n",
    "test['substr'] = (test[\"p_mp\"]-test[\"P\"])/peak_power\n",
    "test['divis'] = test[\"P\"]/test[\"p_mp\"]\n",
    "test.fillna(0, inplace=True)\n",
    "plt.figure()\n",
    "test.P.plot()\n",
    "plt.figure()\n",
    "test.p_mp.plot()\n",
    "plt.figure()\n",
    "test.substr.plot()\n",
    "plt.figure()\n",
    "test.divis.plot()\n"
   ]
  },
  {
   "cell_type": "code",
   "execution_count": 39,
   "metadata": {},
   "outputs": [],
   "source": [
    "#plot difference between clear sky and actual\n",
    "from util import daytime\n",
    "pv_power,_,_ = daytime.remove_nighttime([pv_power], 'P')\n",
    "csi_power,_,_ = daytime.remove_nighttime([csi_power], 'p_mp')\n",
    "\n"
   ]
  }
 ],
 "metadata": {
  "kernelspec": {
   "display_name": "base",
   "language": "python",
   "name": "python3"
  },
  "language_info": {
   "codemirror_mode": {
    "name": "ipython",
    "version": 3
   },
   "file_extension": ".py",
   "mimetype": "text/x-python",
   "name": "python",
   "nbconvert_exporter": "python",
   "pygments_lexer": "ipython3",
   "version": "3.9.18"
  }
 },
 "nbformat": 4,
 "nbformat_minor": 2
}
