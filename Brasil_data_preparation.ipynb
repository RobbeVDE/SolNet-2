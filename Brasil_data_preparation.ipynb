{
 "cells": [
  {
   "cell_type": "code",
   "execution_count": 1,
   "metadata": {},
   "outputs": [],
   "source": [
    "import pandas as pd\n",
    "import os\n",
    "import matplotlib.pyplot as plt\n",
    "import scienceplots\n",
    "import numpy as np\n",
    "plt.style.use(['science'])"
   ]
  },
  {
   "cell_type": "code",
   "execution_count": 2,
   "metadata": {},
   "outputs": [
    {
     "ename": "FileNotFoundError",
     "evalue": "[WinError 3] The system cannot find the path specified: 'C:/Users/Robbe/PycharmProjects/SolNet 2/Brasil'",
     "output_type": "error",
     "traceback": [
      "\u001b[1;31m---------------------------------------------------------------------------\u001b[0m",
      "\u001b[1;31mFileNotFoundError\u001b[0m                         Traceback (most recent call last)",
      "Cell \u001b[1;32mIn[2], line 3\u001b[0m\n\u001b[0;32m      1\u001b[0m directory \u001b[38;5;241m=\u001b[39m \u001b[38;5;124m\"\u001b[39m\u001b[38;5;124mC:/Users/Robbe/PycharmProjects/SolNet 2/Brasil\u001b[39m\u001b[38;5;124m\"\u001b[39m\n\u001b[0;32m      2\u001b[0m total_df \u001b[38;5;241m=\u001b[39m pd\u001b[38;5;241m.\u001b[39mDataFrame()\n\u001b[1;32m----> 3\u001b[0m \u001b[38;5;28;01mfor\u001b[39;00m filename \u001b[38;5;129;01min\u001b[39;00m \u001b[43mos\u001b[49m\u001b[38;5;241;43m.\u001b[39;49m\u001b[43mlistdir\u001b[49m\u001b[43m(\u001b[49m\u001b[43mdirectory\u001b[49m\u001b[43m)\u001b[49m:\n\u001b[0;32m      4\u001b[0m     f \u001b[38;5;241m=\u001b[39m os\u001b[38;5;241m.\u001b[39mpath\u001b[38;5;241m.\u001b[39mjoin(directory, filename)\n\u001b[0;32m      5\u001b[0m     \u001b[38;5;28;01mif\u001b[39;00m \u001b[38;5;124m\"\u001b[39m\u001b[38;5;124minversor\u001b[39m\u001b[38;5;124m\"\u001b[39m\u001b[38;5;129;01min\u001b[39;00m f:\n",
      "\u001b[1;31mFileNotFoundError\u001b[0m: [WinError 3] The system cannot find the path specified: 'C:/Users/Robbe/PycharmProjects/SolNet 2/Brasil'"
     ]
    }
   ],
   "source": [
    "directory = \"C:/Users/Robbe/PycharmProjects/SolNet 2/Brasil\"\n",
    "total_df = pd.DataFrame()\n",
    "for filename in os.listdir(directory):\n",
    "    f = os.path.join(directory, filename)\n",
    "    if \"inversor\"in f:\n",
    "        new_df = pd.read_csv(f, sep=',')\n",
    "        total_df = pd.concat([total_df, new_df])\n",
    "\n",
    "total_df = total_df.astype({'dia_mes_ano':'str', 'hora_minuto':'str'})\n",
    "#total_df.loc[total_df['hora_minuto']]\n",
    "total_df['hora_minuto'] = total_df['hora_minuto'].str.pad(6, side='left', fillchar='0') \n",
    "total_df = total_df.drop_duplicates(['dia_mes_ano', 'hora_minuto'])\n",
    "total_df.index = pd.to_datetime(total_df['dia_mes_ano']+total_df['hora_minuto'], format=\"%Y%m%d%H%M%S\")\n",
    "\n",
    "total_df = total_df.drop(columns=['dia_mes_ano', 'hora_minuto'])\n",
    "\n",
    "\n",
    "#04/10 - 16/10 only starts around 05:00 reindex it with 0\n",
    "range = pd.date_range(start=\"2019-10-04 00:00:00\", end=\"2019-10-17 00:00:00\", freq='1min')\n",
    "work=total_df[total_df.index.isin(range)]\n",
    "total_df = total_df[~total_df.index.isin(range)]\n",
    "work = work.reindex(range, fill_value=0)\n",
    "total_df = pd.concat([work, total_df])\n",
    "\n",
    "start = total_df.index.min()\n",
    "end = total_df.index.max()\n",
    "print(start, end)\n",
    "expected_timestamps = pd.date_range(start=start, end=end, freq='1min')  # Assuming data is recorded every 15 minutes\n",
    "\n",
    "missing_timestamps = expected_timestamps[~expected_timestamps.isin(total_df.index)]\n",
    "\n",
    "if not missing_timestamps.empty:\n",
    "    print(f\" Missing Timestamps: {missing_timestamps}\")\n",
    "else:\n",
    "    print(f\"No missing chronological data.\")\n",
    "\n",
    "missing_df = pd.Series([1]*len(missing_timestamps), index=missing_timestamps)\n",
    "day_sum = missing_df.groupby(missing_df.index.date).sum()\n",
    "print(day_sum.tail(50)) #All days have missing data\n",
    "groups = (missing_timestamps.to_series().diff() == pd.Timedelta(minutes=1)).cumsum().diff()\n",
    "print(groups) #This gives if there are times where data missing is following each other, if not we can interpolate\n",
    "\n",
    "df = total_df.reindex(expected_timestamps, axis=0)\n",
    "\n",
    "conseq = df['P_AC'].isnull().astype(int).groupby(df['P_AC'].notnull().astype(int).cumsum()).sum()\n",
    "print(conseq.head(50))\n",
    "conseq.plot()\n",
    "# total_df = total_df.interpolate(method='linear')\n",
    "\n",
    "# missing_timestamps = expected_timestamps[~expected_timestamps.isin(total_df.index)]\n",
    "\n",
    "# if not missing_timestamps.empty:\n",
    "#     print(f\" Missing Timestamps: {missing_timestamps}\")\n",
    "# else:\n",
    "#     print(f\"No missing chronological data.\")\n",
    "\n",
    "# total_df = total_df.resample('h').mean()\n",
    "# total_df.head(50)\n"
   ]
  },
  {
   "cell_type": "code",
   "execution_count": 3,
   "metadata": {},
   "outputs": [
    {
     "ename": "KeyError",
     "evalue": "'Solar Production (W)'",
     "output_type": "error",
     "traceback": [
      "\u001b[1;31m---------------------------------------------------------------------------\u001b[0m",
      "\u001b[1;31mKeyError\u001b[0m                                  Traceback (most recent call last)",
      "Cell \u001b[1;32mIn[3], line 1\u001b[0m\n\u001b[1;32m----> 1\u001b[0m solar_generation \u001b[38;5;241m=\u001b[39m \u001b[43mtotal_df\u001b[49m\u001b[43m[\u001b[49m\u001b[38;5;124;43m'\u001b[39;49m\u001b[38;5;124;43mSolar Production (W)\u001b[39;49m\u001b[38;5;124;43m'\u001b[39;49m\u001b[43m]\u001b[49m\n\u001b[0;32m      3\u001b[0m solar_generation\u001b[38;5;241m.\u001b[39mto_pickle(\u001b[38;5;124m'\u001b[39m\u001b[38;5;124mData/CostaRica.pkl\u001b[39m\u001b[38;5;124m'\u001b[39m)\n",
      "File \u001b[1;32mc:\\Users\\Robbe\\anaconda3\\envs\\SolNet\\Lib\\site-packages\\pandas\\core\\frame.py:4090\u001b[0m, in \u001b[0;36mDataFrame.__getitem__\u001b[1;34m(self, key)\u001b[0m\n\u001b[0;32m   4088\u001b[0m \u001b[38;5;28;01mif\u001b[39;00m \u001b[38;5;28mself\u001b[39m\u001b[38;5;241m.\u001b[39mcolumns\u001b[38;5;241m.\u001b[39mnlevels \u001b[38;5;241m>\u001b[39m \u001b[38;5;241m1\u001b[39m:\n\u001b[0;32m   4089\u001b[0m     \u001b[38;5;28;01mreturn\u001b[39;00m \u001b[38;5;28mself\u001b[39m\u001b[38;5;241m.\u001b[39m_getitem_multilevel(key)\n\u001b[1;32m-> 4090\u001b[0m indexer \u001b[38;5;241m=\u001b[39m \u001b[38;5;28;43mself\u001b[39;49m\u001b[38;5;241;43m.\u001b[39;49m\u001b[43mcolumns\u001b[49m\u001b[38;5;241;43m.\u001b[39;49m\u001b[43mget_loc\u001b[49m\u001b[43m(\u001b[49m\u001b[43mkey\u001b[49m\u001b[43m)\u001b[49m\n\u001b[0;32m   4091\u001b[0m \u001b[38;5;28;01mif\u001b[39;00m is_integer(indexer):\n\u001b[0;32m   4092\u001b[0m     indexer \u001b[38;5;241m=\u001b[39m [indexer]\n",
      "File \u001b[1;32mc:\\Users\\Robbe\\anaconda3\\envs\\SolNet\\Lib\\site-packages\\pandas\\core\\indexes\\range.py:417\u001b[0m, in \u001b[0;36mRangeIndex.get_loc\u001b[1;34m(self, key)\u001b[0m\n\u001b[0;32m    415\u001b[0m         \u001b[38;5;28;01mraise\u001b[39;00m \u001b[38;5;167;01mKeyError\u001b[39;00m(key) \u001b[38;5;28;01mfrom\u001b[39;00m \u001b[38;5;21;01merr\u001b[39;00m\n\u001b[0;32m    416\u001b[0m \u001b[38;5;28;01mif\u001b[39;00m \u001b[38;5;28misinstance\u001b[39m(key, Hashable):\n\u001b[1;32m--> 417\u001b[0m     \u001b[38;5;28;01mraise\u001b[39;00m \u001b[38;5;167;01mKeyError\u001b[39;00m(key)\n\u001b[0;32m    418\u001b[0m \u001b[38;5;28mself\u001b[39m\u001b[38;5;241m.\u001b[39m_check_indexing_error(key)\n\u001b[0;32m    419\u001b[0m \u001b[38;5;28;01mraise\u001b[39;00m \u001b[38;5;167;01mKeyError\u001b[39;00m(key)\n",
      "\u001b[1;31mKeyError\u001b[0m: 'Solar Production (W)'"
     ]
    }
   ],
   "source": [
    "solar_generation = total_df['Solar Production (W)']\n",
    "\n",
    "solar_generation.to_pickle('Data/CostaRica.pkl')"
   ]
  },
  {
   "cell_type": "code",
   "execution_count": null,
   "metadata": {},
   "outputs": [],
   "source": [
    "plt.scatter(solar_generation)"
   ]
  },
  {
   "cell_type": "code",
   "execution_count": 7,
   "metadata": {},
   "outputs": [
    {
     "name": "stdout",
     "output_type": "stream",
     "text": [
      "0\n",
      "0\n"
     ]
    }
   ],
   "source": [
    "print(solar_generation.isna().sum())\n",
    "print((solar_generation < 0).sum())"
   ]
  }
 ],
 "metadata": {
  "kernelspec": {
   "display_name": "SolNet",
   "language": "python",
   "name": "python3"
  },
  "language_info": {
   "codemirror_mode": {
    "name": "ipython",
    "version": 3
   },
   "file_extension": ".py",
   "mimetype": "text/x-python",
   "name": "python",
   "nbconvert_exporter": "python",
   "pygments_lexer": "ipython3",
   "version": "3.12.2"
  }
 },
 "nbformat": 4,
 "nbformat_minor": 2
}
