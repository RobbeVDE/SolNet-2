{
 "cells": [
  {
   "cell_type": "code",
   "execution_count": 1,
   "metadata": {},
   "outputs": [],
   "source": [
    "import pandas as pd\n",
    "import torch\n",
    "import os\n",
    "from matplotlib import pyplot as plt\n",
    "from main import target_renamer, forecast_maker\n",
    "from Models.lstm import LSTM"
   ]
  },
  {
   "cell_type": "code",
   "execution_count": 2,
   "metadata": {},
   "outputs": [],
   "source": [
    "month_data = True #1 month of data for testing new code\n",
    "month_range = pd.date_range(\"2018-08-01\", \"2018-08-31 23:00\", freq='h', tz=\"UTC\")\n",
    "target_month = pd.date_range(\"2019-08-01\", \"2019-08-31 23:00\", freq='h', tz=\"UTC\")\n"
   ]
  },
  {
   "cell_type": "markdown",
   "metadata": {},
   "source": [
    "# 0. Data initialization"
   ]
  },
  {
   "cell_type": "markdown",
   "metadata": {},
   "source": [
    "## 0.1 Source data"
   ]
  },
  {
   "cell_type": "code",
   "execution_count": 3,
   "metadata": {},
   "outputs": [],
   "source": [
    "openmeteo = pd.read_pickle(\"Data/openmeteo.pickle\")\n",
    "\n",
    "pvgis = pd.read_pickle('Data/PVGIS.pickle')\n",
    "pvgis = pvgis.xs('P', axis=1)\n",
    "pvgis = pvgis[\"2016-05-01\":\"2020-12-31\"]\n",
    "pvgis = pvgis.tz_localize(\"UTC\")\n",
    "\n"
   ]
  },
  {
   "cell_type": "code",
   "execution_count": 4,
   "metadata": {},
   "outputs": [],
   "source": [
    "# P = dataset['P']\n",
    "# P_24h= dataset[\"P_24h_shift\"]\n",
    "# daterange = pd.date_range(\"2018-07-02\", \"2018-07-06\", freq='h', tz=\"UTC\")\n",
    "# plt.figure()\n",
    "# plt.plot(daterange, P[daterange],color=\"#11aa00\", label=\"Actual power\")\n",
    "# plt.plot(daterange, P_24h[daterange], color=\"#11aa0055\", label=\"Power 24h shifted\")\n",
    "# plt.legend()"
   ]
  },
  {
   "cell_type": "markdown",
   "metadata": {},
   "source": [
    "## 0.2 Target data"
   ]
  },
  {
   "cell_type": "code",
   "execution_count": 5,
   "metadata": {},
   "outputs": [
    {
     "data": {
      "text/html": [
       "<div>\n",
       "<style scoped>\n",
       "    .dataframe tbody tr th:only-of-type {\n",
       "        vertical-align: middle;\n",
       "    }\n",
       "\n",
       "    .dataframe tbody tr th {\n",
       "        vertical-align: top;\n",
       "    }\n",
       "\n",
       "    .dataframe thead th {\n",
       "        text-align: right;\n",
       "    }\n",
       "</style>\n",
       "<table border=\"1\" class=\"dataframe\">\n",
       "  <thead>\n",
       "    <tr style=\"text-align: right;\">\n",
       "      <th></th>\n",
       "      <th>P</th>\n",
       "    </tr>\n",
       "    <tr>\n",
       "      <th>timestamp</th>\n",
       "      <th></th>\n",
       "    </tr>\n",
       "  </thead>\n",
       "  <tbody>\n",
       "    <tr>\n",
       "      <th>2019-08-01 00:00:00+00:00</th>\n",
       "      <td>0.0</td>\n",
       "    </tr>\n",
       "    <tr>\n",
       "      <th>2019-08-01 01:00:00+00:00</th>\n",
       "      <td>0.0</td>\n",
       "    </tr>\n",
       "    <tr>\n",
       "      <th>2019-08-01 02:00:00+00:00</th>\n",
       "      <td>0.0</td>\n",
       "    </tr>\n",
       "    <tr>\n",
       "      <th>2019-08-01 03:00:00+00:00</th>\n",
       "      <td>0.0</td>\n",
       "    </tr>\n",
       "    <tr>\n",
       "      <th>2019-08-01 04:00:00+00:00</th>\n",
       "      <td>7.0</td>\n",
       "    </tr>\n",
       "  </tbody>\n",
       "</table>\n",
       "</div>"
      ],
      "text/plain": [
       "                             P\n",
       "timestamp                     \n",
       "2019-08-01 00:00:00+00:00  0.0\n",
       "2019-08-01 01:00:00+00:00  0.0\n",
       "2019-08-01 02:00:00+00:00  0.0\n",
       "2019-08-01 03:00:00+00:00  0.0\n",
       "2019-08-01 04:00:00+00:00  7.0"
      ]
     },
     "execution_count": 5,
     "metadata": {},
     "output_type": "execute_result"
    }
   ],
   "source": [
    "installation_id = \"3437BD60\"\n",
    "prodNL = pd.read_parquet('Data/production.parquet', engine='pyarrow')\n",
    "metadata = pd.read_csv(\"Data/installations Netherlands.csv\", sep=';')\n",
    "metadata = metadata.set_index('id')\n",
    "metadata_id = metadata.loc[installation_id]\n",
    "tilt = metadata_id[\"Tilt\"]\n",
    "peakPower = metadata_id[\"Watt Peak\"]\n",
    "azimuth = metadata_id[\"Orientation\"]\n",
    "latitude = metadata_id[\"Latitude\"]\n",
    "longitude = metadata_id[\"Longitude\"]\n",
    "power = prodNL.loc[installation_id]\n",
    "power = target_renamer(power, 'watt')\n",
    "power = power.resample('h').sum()/4\n",
    "power = power.tz_localize('UTC')\n",
    "if month_data:\n",
    "    target_power = power[power.index.isin(target_month)]\n",
    "target_power.head()\n"
   ]
  },
  {
   "cell_type": "markdown",
   "metadata": {},
   "source": [
    "# 1. Historic weather "
   ]
  },
  {
   "cell_type": "markdown",
   "metadata": {},
   "source": [
    "## 1.1 Prepare data"
   ]
  },
  {
   "cell_type": "code",
   "execution_count": 6,
   "metadata": {},
   "outputs": [],
   "source": [
    "from Data.Featurisation import Featurisation\n",
    "\n",
    "data = pd.merge(pvgis, openmeteo, left_index=True, right_index=True)\n",
    "\n",
    "data = [data] # Put it in a list to work with featurisation object\n",
    "\n",
    "#2. Featurise data & ready for training & testing 7\n",
    "data = Featurisation(data)\n",
    "data.data = data.cyclic_features()\n",
    "data.data = data.add_shift('P')\n",
    "\n",
    "\n",
    "source_dataset = data.data[0]\n",
    "if month_data:\n",
    "    source_dataset = source_dataset[source_dataset.index.isin(month_range)]\n",
    "\n",
    "target_meteo = openmeteo[openmeteo.index.isin(target_month)]\n",
    "target_dataset = pd.merge(target_power, target_meteo, left_index=True, right_index=True)\n",
    "\n",
    "data = [target_dataset] # Put it in a list to work with featurisation object\n",
    "\n",
    "#2. Featurise data & ready for training & testing 7\n",
    "data = Featurisation(data)\n",
    "data.data = data.cyclic_features()\n",
    "data.data = data.add_shift('P')\n",
    "\n",
    "target_dataset = data.data[0]\n"
   ]
  },
  {
   "cell_type": "code",
   "execution_count": 7,
   "metadata": {},
   "outputs": [],
   "source": [
    "tuning_method = 'whole'\n",
    "features = list(source_dataset.columns)"
   ]
  },
  {
   "cell_type": "markdown",
   "metadata": {},
   "source": [
    "## 1.2  Make models"
   ]
  },
  {
   "cell_type": "code",
   "execution_count": 8,
   "metadata": {},
   "outputs": [
    {
     "name": "stderr",
     "output_type": "stream",
     "text": [
      "c:\\Users\\Robbe\\PycharmProjects\\SolNet 2\\tensors\\Tensorisation.py:101: FutureWarning: Series.__getitem__ treating keys as positions is deprecated. In a future version, integer keys will always be treated as labels (consistent with DataFrame behavior). To access a value by position, use `ser.iloc[pos]`\n",
      "  X_tensor = torch.tensor(self.data[feature]).type(torch.float32)\n",
      "c:\\Users\\Robbe\\PycharmProjects\\SolNet 2\\tensors\\Tensorisation.py:123: FutureWarning: Series.__getitem__ treating keys as positions is deprecated. In a future version, integer keys will always be treated as labels (consistent with DataFrame behavior). To access a value by position, use `ser.iloc[pos]`\n",
      "  y_tensor = torch.tensor(self.data[feature]).type(torch.float32)\n"
     ]
    },
    {
     "name": "stdout",
     "output_type": "stream",
     "text": [
      "Shape of data:  torch.Size([24, 24, 15]) torch.Size([6, 24, 15]) torch.Size([24, 24, 1]) torch.Size([6, 24, 1])\n",
      "LSTM(\n",
      "  (lstm): LSTM(15, 100, num_layers=4, batch_first=True, dropout=0.3)\n",
      "  (linear): Linear(in_features=100, out_features=24, bias=True)\n",
      ")\n",
      "Step 0: Average train loss: 0.1549 | Average test loss: 0.1048\n",
      "Step 5: Average train loss: 0.1173 | Average test loss: 0.0720\n",
      "Step 10: Average train loss: 0.0371 | Average test loss: 0.0546\n",
      "Step 15: Average train loss: 0.0215 | Average test loss: 0.0203\n",
      "Step 20: Average train loss: 0.0232 | Average test loss: 0.0212\n",
      "Step 25: Average train loss: 0.0222 | Average test loss: 0.0281\n",
      "Step 30: Average train loss: 0.0200 | Average test loss: 0.0220\n",
      "Step 35: Average train loss: 0.0194 | Average test loss: 0.0200\n",
      "Step 40: Average train loss: 0.0185 | Average test loss: 0.0218\n",
      "Step 45: Average train loss: 0.0189 | Average test loss: 0.0216\n",
      "Step 50: Average train loss: 0.0186 | Average test loss: 0.0199\n",
      "Step 55: Average train loss: 0.0169 | Average test loss: 0.0194\n",
      "Step 60: Average train loss: 0.0149 | Average test loss: 0.0167\n",
      "Step 65: Average train loss: 0.0136 | Average test loss: 0.0153\n",
      "Step 70: Average train loss: 0.0120 | Average test loss: 0.0141\n",
      "Step 75: Average train loss: 0.0093 | Average test loss: 0.0132\n",
      "Best Epoch: 77\n"
     ]
    },
    {
     "name": "stderr",
     "output_type": "stream",
     "text": [
      "c:\\Users\\Robbe\\PycharmProjects\\SolNet 2\\tensors\\Tensorisation.py:101: FutureWarning: Series.__getitem__ treating keys as positions is deprecated. In a future version, integer keys will always be treated as labels (consistent with DataFrame behavior). To access a value by position, use `ser.iloc[pos]`\n",
      "  X_tensor = torch.tensor(self.data[feature]).type(torch.float32)\n",
      "c:\\Users\\Robbe\\PycharmProjects\\SolNet 2\\tensors\\Tensorisation.py:123: FutureWarning: Series.__getitem__ treating keys as positions is deprecated. In a future version, integer keys will always be treated as labels (consistent with DataFrame behavior). To access a value by position, use `ser.iloc[pos]`\n",
      "  y_tensor = torch.tensor(self.data[feature]).type(torch.float32)\n"
     ]
    },
    {
     "name": "stdout",
     "output_type": "stream",
     "text": [
      "Shape of data:  torch.Size([24, 24, 15]) torch.Size([6, 24, 15]) torch.Size([24, 24, 1]) torch.Size([6, 24, 1])\n",
      "LSTM(\n",
      "  (lstm): LSTM(15, 100, num_layers=4, batch_first=True, dropout=0.3)\n",
      "  (linear): Linear(in_features=100, out_features=24, bias=True)\n",
      ")\n",
      "Step 0: Average train loss: 0.0097 | Average test loss: 0.0040\n",
      "Step 5: Average train loss: 0.0094 | Average test loss: 0.0041\n",
      "Step 10: Average train loss: 0.0093 | Average test loss: 0.0040\n",
      "Step 15: Average train loss: 0.0089 | Average test loss: 0.0037\n",
      "Step 20: Average train loss: 0.0090 | Average test loss: 0.0037\n",
      "Step 25: Average train loss: 0.0090 | Average test loss: 0.0036\n",
      "Step 30: Average train loss: 0.0087 | Average test loss: 0.0038\n",
      "Step 35: Average train loss: 0.0089 | Average test loss: 0.0036\n",
      "Step 40: Average train loss: 0.0091 | Average test loss: 0.0036\n",
      "Step 45: Average train loss: 0.0093 | Average test loss: 0.0035\n",
      "Step 50: Average train loss: 0.0084 | Average test loss: 0.0036\n",
      "Step 55: Average train loss: 0.0087 | Average test loss: 0.0035\n",
      "Step 60: Average train loss: 0.0089 | Average test loss: 0.0035\n",
      "Step 65: Average train loss: 0.0087 | Average test loss: 0.0035\n",
      "Step 70: Average train loss: 0.0085 | Average test loss: 0.0035\n",
      "Step 75: Average train loss: 0.0090 | Average test loss: 0.0035\n",
      "Best Epoch: 77\n"
     ]
    },
    {
     "data": {
      "image/png": "[encoded data removed]",
      "text/plain": [
       "<Figure size 640x480 with 1 Axes>"
      ]
     },
     "metadata": {},
     "output_type": "display_data"
    }
   ],
   "source": [
    "\n",
    "source_state_dict, target_state_dict = forecast_maker(source_dataset, target_dataset, tuning_method, features)"
   ]
  }
 ],
 "metadata": {
  "kernelspec": {
   "display_name": "SolNet",
   "language": "python",
   "name": "python3"
  },
  "language_info": {
   "codemirror_mode": {
    "name": "ipython",
    "version": 3
   },
   "file_extension": ".py",
   "mimetype": "text/x-python",
   "name": "python",
   "nbconvert_exporter": "python",
   "pygments_lexer": "ipython3",
   "version": "3.12.2"
  }
 },
 "nbformat": 4,
 "nbformat_minor": 2
}
