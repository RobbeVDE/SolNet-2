{
 "cells": [
  {
   "cell_type": "code",
   "execution_count": 31,
   "metadata": {},
   "outputs": [],
   "source": [
    "import pandas as pd\n",
    "import torch\n",
    "import os\n",
    "from matplotlib import pyplot as plt\n",
    "from main import target_renamer, forecast_maker\n",
    "from Models.lstm import LSTM"
   ]
  },
  {
   "cell_type": "code",
   "execution_count": 32,
   "metadata": {},
   "outputs": [],
   "source": [
    "lags = 24\n",
    "forecast_period=24\n",
    "hidden_size = 100\n",
    "num_layers = 4\n",
    "dropout = 0.3\n",
    "device = torch.device(\"cuda\" if torch.cuda.is_available() else \"cpu\")"
   ]
  },
  {
   "cell_type": "code",
   "execution_count": 33,
   "metadata": {},
   "outputs": [],
   "source": [
    "month_data = True #1 month of data for testing new code\n",
    "month_range = pd.date_range(\"2018-08-01\", \"2018-08-31 23:00\", freq='h', tz=\"UTC\")\n",
    "target_month = pd.date_range(\"2019-08-01\", \"2019-08-31 23:00\", freq='h', tz=\"UTC\")\n",
    "eval_month = pd.date_range(\"2020-08-01\", \"2020-08-31 23:00\", tz=\"UTC\", freq='h')\n"
   ]
  },
  {
   "cell_type": "markdown",
   "metadata": {},
   "source": [
    "# 0. Data initialization"
   ]
  },
  {
   "cell_type": "code",
   "execution_count": 34,
   "metadata": {},
   "outputs": [
    {
     "name": "stdout",
     "output_type": "stream",
     "text": [
      "<class 'pandas.core.frame.DataFrame'>\n",
      "DatetimeIndex: 49704 entries, 2016-05-01 00:00:00+00:00 to 2021-12-31 23:00:00+00:00\n",
      "Freq: h\n",
      "Data columns (total 9 columns):\n",
      " #   Column                    Non-Null Count  Dtype  \n",
      "---  ------                    --------------  -----  \n",
      " 0   temperature_1_5m          48971 non-null  float32\n",
      " 1   relative_humidity_1_5m    48971 non-null  float32\n",
      " 2   total_cloud_amount        48887 non-null  float32\n",
      " 3   diffuse_surface_SW_flux   48803 non-null  float32\n",
      " 4   direct_surface_SW_flux    48803 non-null  float32\n",
      " 5   downward_surface_SW_flux  48971 non-null  float32\n",
      " 6   pressure_MSL              48995 non-null  float32\n",
      " 7   wind_speed_10m            48971 non-null  float32\n",
      " 8   wind_direction_10m        48971 non-null  float32\n",
      "dtypes: float32(9)\n",
      "memory usage: 2.1 MB\n",
      "None\n"
     ]
    }
   ],
   "source": [
    "openmeteo = pd.read_pickle(\"Data/openmeteo.pickle\")\n",
    "\n",
    "pvgis = pd.read_pickle('Data/PVGIS.pickle')\n",
    "pvgis = pvgis.xs('P', axis=1)\n",
    "pvgis = pvgis[\"2016-05-01\":\"2020-12-31\"]\n",
    "pvgis = pvgis.tz_localize(\"UTC\")\n",
    "\n",
    "CEDA = pd.read_pickle(\"CEDA_data.pickle\")\n",
    "CEDA_range = pd.date_range(CEDA.index.min()-pd.Timedelta('1h'), CEDA.index.max(), freq='h')\n",
    "CEDA = CEDA.drop_duplicates(keep='first')\n",
    "CEDA = CEDA.reindex(index=CEDA_range, method='nearest')\n",
    "\n",
    "meteo2CEDA = {'temperature_2m' :'temperature_1_5m', \n",
    "              \"relative_humidity_2m\":\"relative_humidity_1_5m\", \n",
    "              \"pressure_msl\": \"pressure_MSL\",\n",
    "              \"cloud_cover\":\"total_cloud_amount\",\n",
    "              \"shortwave_radiation_instant\": \"downward_surface_SW_flux\",\n",
    "              \"diffuse_radiation_instant\":\"diffuse_surface_SW_flux\",\n",
    "              \"direct_normal_irradiance_instant\":\"direct_surface_SW_flux\",\n",
    "              \"wind_speed_10m\": \"wind_speed_10m\",\n",
    "              \"wind_direction_10m\": \"wind_direction_10m\"\n",
    "              }\n",
    "openmeteo = openmeteo.rename(columns=meteo2CEDA)\n",
    "print(CEDA.info())\n"
   ]
  },
  {
   "cell_type": "code",
   "execution_count": 35,
   "metadata": {},
   "outputs": [
    {
     "name": "stdout",
     "output_type": "stream",
     "text": [
      "date\n",
      "2016-05-01 00:00:00+00:00      6.008918\n",
      "2016-05-01 01:00:00+00:00      2.935620\n",
      "2016-05-01 02:00:00+00:00      1.397161\n",
      "2016-05-01 03:00:00+00:00    360.000000\n",
      "2016-05-01 04:00:00+00:00      1.548122\n",
      "                                ...    \n",
      "2020-08-31 19:00:00+00:00      7.594560\n",
      "2020-08-31 20:00:00+00:00      7.765082\n",
      "2020-08-31 21:00:00+00:00      8.130019\n",
      "2020-08-31 22:00:00+00:00     15.068549\n",
      "2020-08-31 23:00:00+00:00     18.435053\n",
      "Name: wind_direction_10m, Length: 38016, dtype: float32\n"
     ]
    }
   ],
   "source": [
    "installation_id = \"3437BD60\"\n",
    "prodNL = pd.read_parquet('Data/production.parquet', engine='pyarrow')\n",
    "metadata = pd.read_csv(\"Data/installations Netherlands.csv\", sep=';')\n",
    "metadata = metadata.set_index('id')\n",
    "metadata_id = metadata.loc[installation_id]\n",
    "tilt = metadata_id[\"Tilt\"]\n",
    "peakPower = metadata_id[\"Watt Peak\"]\n",
    "azimuth = metadata_id[\"Orientation\"]\n",
    "latitude = metadata_id[\"Latitude\"]\n",
    "longitude = metadata_id[\"Longitude\"]\n",
    "power = prodNL.loc[installation_id]\n",
    "power = target_renamer(power, 'watt')\n",
    "power = power.resample('h').sum()/4\n",
    "power = power.tz_localize('UTC')\n",
    "\n",
    "print(openmeteo['wind_direction_10m'])\n"
   ]
  },
  {
   "cell_type": "markdown",
   "metadata": {},
   "source": [
    "# 1. Historic weather "
   ]
  },
  {
   "cell_type": "markdown",
   "metadata": {},
   "source": [
    "Case study 1:\n",
    "|   | Source   | Target |\n",
    "|---|----------|--------|\n",
    "| X |open-meteo| CEDA|\n",
    "| Y | PVGIS    | Prod NL|"
   ]
  },
  {
   "cell_type": "code",
   "execution_count": 36,
   "metadata": {},
   "outputs": [
    {
     "data": {
      "text/html": [
       "<div>\n",
       "<style scoped>\n",
       "    .dataframe tbody tr th:only-of-type {\n",
       "        vertical-align: middle;\n",
       "    }\n",
       "\n",
       "    .dataframe tbody tr th {\n",
       "        vertical-align: top;\n",
       "    }\n",
       "\n",
       "    .dataframe thead th {\n",
       "        text-align: right;\n",
       "    }\n",
       "</style>\n",
       "<table border=\"1\" class=\"dataframe\">\n",
       "  <thead>\n",
       "    <tr style=\"text-align: right;\">\n",
       "      <th></th>\n",
       "      <th>P</th>\n",
       "    </tr>\n",
       "    <tr>\n",
       "      <th>timestamp</th>\n",
       "      <th></th>\n",
       "    </tr>\n",
       "  </thead>\n",
       "  <tbody>\n",
       "    <tr>\n",
       "      <th>2020-08-01 00:00:00+00:00</th>\n",
       "      <td>0.0</td>\n",
       "    </tr>\n",
       "    <tr>\n",
       "      <th>2020-08-01 01:00:00+00:00</th>\n",
       "      <td>0.0</td>\n",
       "    </tr>\n",
       "    <tr>\n",
       "      <th>2020-08-01 02:00:00+00:00</th>\n",
       "      <td>0.0</td>\n",
       "    </tr>\n",
       "    <tr>\n",
       "      <th>2020-08-01 03:00:00+00:00</th>\n",
       "      <td>0.0</td>\n",
       "    </tr>\n",
       "    <tr>\n",
       "      <th>2020-08-01 04:00:00+00:00</th>\n",
       "      <td>7.0</td>\n",
       "    </tr>\n",
       "  </tbody>\n",
       "</table>\n",
       "</div>"
      ],
      "text/plain": [
       "                             P\n",
       "timestamp                     \n",
       "2020-08-01 00:00:00+00:00  0.0\n",
       "2020-08-01 01:00:00+00:00  0.0\n",
       "2020-08-01 02:00:00+00:00  0.0\n",
       "2020-08-01 03:00:00+00:00  0.0\n",
       "2020-08-01 04:00:00+00:00  7.0"
      ]
     },
     "execution_count": 36,
     "metadata": {},
     "output_type": "execute_result"
    }
   ],
   "source": [
    "target_CEDA = CEDA[CEDA.index.isin(target_month)]\n",
    "target_power = power[power.index.isin(target_month)]\n",
    "eval_CEDA = CEDA[CEDA.index.isin(eval_month)]\n",
    "eval_power = power[power.index.isin(eval_month)]\n",
    "eval_power.head()"
   ]
  },
  {
   "cell_type": "code",
   "execution_count": 37,
   "metadata": {},
   "outputs": [],
   "source": [
    "from Data.Featurisation import Featurisation\n",
    "# SOURCE DATA\n",
    "data = pd.merge(pvgis, openmeteo, left_index=True, right_index=True)\n",
    "\n",
    "data = [data] # Put it in a list to work with featurisation object\n",
    "\n",
    "#2. Featurise data & ready for training & testing 7\n",
    "data = Featurisation(data)\n",
    "data.data = data.cyclic_features()\n",
    "data.data = data.add_shift('P')\n",
    "data.data = data.cyclic_angle('wind_direction_10m')\n",
    "\n",
    "\n",
    "\n",
    "source_dataset = data.data[0]\n",
    "if month_data:\n",
    "    source_dataset = source_dataset[source_dataset.index.isin(month_range)]\n",
    "\n",
    "\n",
    "#TARGET DATASET\n",
    "target_dataset = pd.merge(target_power, target_CEDA, left_index=True, right_index=True, how='inner')\n",
    "data = [target_dataset] # Put it in a list to work with featurisation object\n",
    "\n",
    "#2. Featurise data & ready for training & testing 7\n",
    "data = Featurisation(data)\n",
    "data.data = data.cyclic_features()\n",
    "data.data = data.add_shift('P')\n",
    "data.data = data.cyclic_angle('wind_direction_10m')\n",
    "\n",
    "target_dataset = data.data[0]\n",
    "target_dataset = target_dataset.reindex(index=pd.Index(target_month), method='nearest')\n",
    "\n",
    "## EVALUATION DATASET\n",
    "eval_dataset = pd.merge(eval_power, eval_CEDA, left_index=True, right_index=True, how='inner')\n",
    "data = [eval_dataset] # Put it in a list to work with featurisation object\n",
    "\n",
    "#2. Featurise data & ready for training & testing 7\n",
    "data = Featurisation(data)\n",
    "data.data = data.cyclic_features()\n",
    "data.data = data.add_shift('P')\n",
    "data.data = data.cyclic_angle('wind_direction_10m')\n",
    "\n",
    "eval_dataset = data.data[0]\n",
    "eval_dataset = eval_dataset.reindex(index=pd.Index(eval_month), method='nearest')\n"
   ]
  },
  {
   "cell_type": "code",
   "execution_count": 38,
   "metadata": {},
   "outputs": [],
   "source": [
    "# P = source_dataset['P']\n",
    "# P_24h= source_dataset[\"P_24h_shift\"]\n",
    "# daterange = pd.date_range(\"2018-07-02\", \"2018-07-06\", freq='h', tz=\"UTC\")\n",
    "# plt.figure()\n",
    "# plt.plot(daterange, P[daterange],color=\"#11aa00\", label=\"Actual power\")\n",
    "# plt.plot(daterange, P_24h[daterange], color=\"#11aa0055\", label=\"Power 24h shifted\")\n",
    "# plt.legend()"
   ]
  },
  {
   "cell_type": "code",
   "execution_count": 39,
   "metadata": {},
   "outputs": [
    {
     "name": "stdout",
     "output_type": "stream",
     "text": [
      "['P', 'temperature_1_5m', 'relative_humidity_1_5m', 'pressure_MSL', 'total_cloud_amount', 'downward_surface_SW_flux', 'diffuse_surface_SW_flux', 'direct_surface_SW_flux', 'wind_speed_10m', 'wind_direction_10m', 'hour_sin', 'hour_cos', 'month_sin', 'month_cos', 'P_24h_shift', 'wind_direction_10m_cos', 'wind_direction_10m_sin']\n"
     ]
    }
   ],
   "source": [
    "tuning_method = 'whole'\n",
    "source_features = list(source_dataset.columns)\n",
    "print(source_features)\n"
   ]
  },
  {
   "cell_type": "code",
   "execution_count": 40,
   "metadata": {},
   "outputs": [
    {
     "name": "stderr",
     "output_type": "stream",
     "text": [
      "c:\\Users\\Robbe\\PycharmProjects\\SolNet 2\\tensors\\Tensorisation.py:102: FutureWarning: Series.__getitem__ treating keys as positions is deprecated. In a future version, integer keys will always be treated as labels (consistent with DataFrame behavior). To access a value by position, use `ser.iloc[pos]`\n",
      "  X_tensor = torch.tensor(self.data[feature]).type(torch.float32)\n"
     ]
    },
    {
     "name": "stderr",
     "output_type": "stream",
     "text": [
      "c:\\Users\\Robbe\\PycharmProjects\\SolNet 2\\tensors\\Tensorisation.py:122: FutureWarning: Series.__getitem__ treating keys as positions is deprecated. In a future version, integer keys will always be treated as labels (consistent with DataFrame behavior). To access a value by position, use `ser.iloc[pos]`\n",
      "  y_tensor = torch.tensor(self.data['P']).type(torch.float32)\n"
     ]
    },
    {
     "name": "stdout",
     "output_type": "stream",
     "text": [
      "Shape of data:  torch.Size([24, 24, 16]) torch.Size([6, 24, 16]) torch.Size([24, 24, 1]) torch.Size([6, 24, 1])\n",
      "LSTM(\n",
      "  (lstm): LSTM(16, 100, num_layers=4, batch_first=True, dropout=0.3)\n",
      "  (linear): Linear(in_features=100, out_features=24, bias=True)\n",
      ")\n",
      "Step 0: Average train loss: 0.1343 | Average test loss: 0.0964\n",
      "Step 5: Average train loss: 0.0999 | Average test loss: 0.0633\n",
      "Step 10: Average train loss: 0.0360 | Average test loss: 0.0483\n",
      "Step 15: Average train loss: 0.0215 | Average test loss: 0.0193\n",
      "Step 20: Average train loss: 0.0228 | Average test loss: 0.0210\n",
      "Step 25: Average train loss: 0.0204 | Average test loss: 0.0237\n",
      "Step 30: Average train loss: 0.0184 | Average test loss: 0.0191\n",
      "Step 35: Average train loss: 0.0181 | Average test loss: 0.0182\n",
      "Step 40: Average train loss: 0.0166 | Average test loss: 0.0180\n",
      "Step 45: Average train loss: 0.0126 | Average test loss: 0.0146\n",
      "Step 50: Average train loss: 0.0095 | Average test loss: 0.0173\n",
      "Step 55: Average train loss: 0.0085 | Average test loss: 0.0136\n",
      "Step 60: Average train loss: 0.0085 | Average test loss: 0.0130\n",
      "Step 65: Average train loss: 0.0076 | Average test loss: 0.0129\n",
      "Step 70: Average train loss: 0.0075 | Average test loss: 0.0136\n",
      "Step 75: Average train loss: 0.0071 | Average test loss: 0.0136\n",
      "Best Epoch: 62\n",
      "Shape of data:  torch.Size([24, 24, 16]) torch.Size([6, 24, 16]) torch.Size([24, 24, 1]) torch.Size([6, 24, 1])\n",
      "LSTM(\n",
      "  (lstm): LSTM(16, 100, num_layers=4, batch_first=True, dropout=0.3)\n",
      "  (linear): Linear(in_features=100, out_features=24, bias=True)\n",
      ")\n",
      "Step 0: Average train loss: 0.1380 | Average test loss: 0.0795\n",
      "Step 5: Average train loss: 0.0113 | Average test loss: 0.0080\n",
      "Step 10: Average train loss: 0.0027 | Average test loss: 0.0021\n",
      "Step 15: Average train loss: 0.0007 | Average test loss: 0.0005\n",
      "Step 20: Average train loss: 0.0003 | Average test loss: 0.0003\n",
      "Step 25: Average train loss: 0.0002 | Average test loss: 0.0001\n",
      "Step 30: Average train loss: 0.0001 | Average test loss: 0.0001\n",
      "Step 35: Average train loss: 0.0001 | Average test loss: 0.0000\n",
      "Step 40: Average train loss: 0.0000 | Average test loss: 0.0000\n",
      "Step 45: Average train loss: 0.0000 | Average test loss: 0.0000\n",
      "Step 50: Average train loss: 0.0000 | Average test loss: 0.0000\n",
      "Step 55: Average train loss: 0.0000 | Average test loss: 0.0000\n",
      "Step 60: Average train loss: 0.0000 | Average test loss: 0.0000\n",
      "Step 65: Average train loss: 0.0000 | Average test loss: 0.0000\n",
      "Step 70: Average train loss: 0.0000 | Average test loss: 0.0000\n",
      "Step 75: Average train loss: 0.0000 | Average test loss: 0.0000\n",
      "Best Epoch: 79\n"
     ]
    },
    {
     "data": {
      "image/png": "[encoded data removed]",
      "text/plain": [
       "<Figure size 640x480 with 1 Axes>"
      ]
     },
     "metadata": {},
     "output_type": "display_data"
    }
   ],
   "source": [
    "source_state_dict, target_state_dict = forecast_maker(source_dataset, target_dataset, tuning_method, source_features)"
   ]
  },
  {
   "cell_type": "code",
   "execution_count": 41,
   "metadata": {},
   "outputs": [
    {
     "name": "stdout",
     "output_type": "stream",
     "text": [
      "[tensor(0.8239), tensor(0.7620), tensor(0.9720), tensor(0.9201), tensor(0.8600), tensor(0.9053), tensor(0.6384), tensor(0.8433), tensor(0.9083), tensor(0.9799), tensor(0.7294), tensor(0.7833), tensor(0.8367), tensor(0.8575)]\n"
     ]
    }
   ],
   "source": [
    "#Check data leakage (not robust lol)\n",
    "input_weights = [0]*14\n",
    "for i in range(0,14):\n",
    "    input_weights[i] = abs(target_state_dict['lstm.weight_ih_l0'][i]).sum()\n",
    "print(input_weights)"
   ]
  },
  {
   "cell_type": "code",
   "execution_count": 42,
   "metadata": {},
   "outputs": [
    {
     "ename": "RuntimeError",
     "evalue": "Error(s) in loading state_dict for LSTM:\n\tsize mismatch for lstm.weight_ih_l0: copying a param with shape torch.Size([400, 16]) from checkpoint, the shape in current model is torch.Size([400, 15]).",
     "output_type": "error",
     "traceback": [
      "\u001b[1;31m---------------------------------------------------------------------------\u001b[0m",
      "\u001b[1;31mRuntimeError\u001b[0m                              Traceback (most recent call last)",
      "Cell \u001b[1;32mIn[42], line 3\u001b[0m\n\u001b[0;32m      1\u001b[0m input_size \u001b[38;5;241m=\u001b[39m \u001b[38;5;28mlen\u001b[39m(source_features)\u001b[38;5;241m-\u001b[39m\u001b[38;5;241m1\u001b[39m\n\u001b[0;32m      2\u001b[0m fit_model \u001b[38;5;241m=\u001b[39m LSTM(input_size,hidden_size,num_layers, forecast_period, dropout)\u001b[38;5;241m.\u001b[39mto(device)\n\u001b[1;32m----> 3\u001b[0m \u001b[43mfit_model\u001b[49m\u001b[38;5;241;43m.\u001b[39;49m\u001b[43mload_state_dict\u001b[49m\u001b[43m(\u001b[49m\u001b[43mtarget_state_dict\u001b[49m\u001b[43m)\u001b[49m\n\u001b[0;32m      4\u001b[0m predict_day \u001b[38;5;241m=\u001b[39m pd\u001b[38;5;241m.\u001b[39mdate_range(\u001b[38;5;124m\"\u001b[39m\u001b[38;5;124m2022-08-01\u001b[39m\u001b[38;5;124m\"\u001b[39m, \u001b[38;5;124m\"\u001b[39m\u001b[38;5;124m2022-08-01 23:00\u001b[39m\u001b[38;5;124m\"\u001b[39m, freq\u001b[38;5;241m=\u001b[39m\u001b[38;5;124m'\u001b[39m\u001b[38;5;124mh\u001b[39m\u001b[38;5;124m'\u001b[39m, tz\u001b[38;5;241m=\u001b[39m\u001b[38;5;124m'\u001b[39m\u001b[38;5;124mUTC\u001b[39m\u001b[38;5;124m'\u001b[39m)\n\u001b[0;32m      5\u001b[0m X \u001b[38;5;241m=\u001b[39m CEDA[CEDA\u001b[38;5;241m.\u001b[39mindex\u001b[38;5;241m.\u001b[39misin(predict_day)]\n",
      "File \u001b[1;32mc:\\Users\\Robbe\\anaconda3\\envs\\SolNet\\Lib\\site-packages\\torch\\nn\\modules\\module.py:2153\u001b[0m, in \u001b[0;36mModule.load_state_dict\u001b[1;34m(self, state_dict, strict, assign)\u001b[0m\n\u001b[0;32m   2148\u001b[0m         error_msgs\u001b[38;5;241m.\u001b[39minsert(\n\u001b[0;32m   2149\u001b[0m             \u001b[38;5;241m0\u001b[39m, \u001b[38;5;124m'\u001b[39m\u001b[38;5;124mMissing key(s) in state_dict: \u001b[39m\u001b[38;5;132;01m{}\u001b[39;00m\u001b[38;5;124m. \u001b[39m\u001b[38;5;124m'\u001b[39m\u001b[38;5;241m.\u001b[39mformat(\n\u001b[0;32m   2150\u001b[0m                 \u001b[38;5;124m'\u001b[39m\u001b[38;5;124m, \u001b[39m\u001b[38;5;124m'\u001b[39m\u001b[38;5;241m.\u001b[39mjoin(\u001b[38;5;124mf\u001b[39m\u001b[38;5;124m'\u001b[39m\u001b[38;5;124m\"\u001b[39m\u001b[38;5;132;01m{\u001b[39;00mk\u001b[38;5;132;01m}\u001b[39;00m\u001b[38;5;124m\"\u001b[39m\u001b[38;5;124m'\u001b[39m \u001b[38;5;28;01mfor\u001b[39;00m k \u001b[38;5;129;01min\u001b[39;00m missing_keys)))\n\u001b[0;32m   2152\u001b[0m \u001b[38;5;28;01mif\u001b[39;00m \u001b[38;5;28mlen\u001b[39m(error_msgs) \u001b[38;5;241m>\u001b[39m \u001b[38;5;241m0\u001b[39m:\n\u001b[1;32m-> 2153\u001b[0m     \u001b[38;5;28;01mraise\u001b[39;00m \u001b[38;5;167;01mRuntimeError\u001b[39;00m(\u001b[38;5;124m'\u001b[39m\u001b[38;5;124mError(s) in loading state_dict for \u001b[39m\u001b[38;5;132;01m{}\u001b[39;00m\u001b[38;5;124m:\u001b[39m\u001b[38;5;130;01m\\n\u001b[39;00m\u001b[38;5;130;01m\\t\u001b[39;00m\u001b[38;5;132;01m{}\u001b[39;00m\u001b[38;5;124m'\u001b[39m\u001b[38;5;241m.\u001b[39mformat(\n\u001b[0;32m   2154\u001b[0m                        \u001b[38;5;28mself\u001b[39m\u001b[38;5;241m.\u001b[39m\u001b[38;5;18m__class__\u001b[39m\u001b[38;5;241m.\u001b[39m\u001b[38;5;18m__name__\u001b[39m, \u001b[38;5;124m\"\u001b[39m\u001b[38;5;130;01m\\n\u001b[39;00m\u001b[38;5;130;01m\\t\u001b[39;00m\u001b[38;5;124m\"\u001b[39m\u001b[38;5;241m.\u001b[39mjoin(error_msgs)))\n\u001b[0;32m   2155\u001b[0m \u001b[38;5;28;01mreturn\u001b[39;00m _IncompatibleKeys(missing_keys, unexpected_keys)\n",
      "\u001b[1;31mRuntimeError\u001b[0m: Error(s) in loading state_dict for LSTM:\n\tsize mismatch for lstm.weight_ih_l0: copying a param with shape torch.Size([400, 16]) from checkpoint, the shape in current model is torch.Size([400, 15])."
     ]
    }
   ],
   "source": [
    "input_size = len(source_features)-1\n",
    "fit_model = LSTM(input_size,hidden_size,num_layers, forecast_period, dropout).to(device)\n",
    "fit_model.load_state_dict(target_state_dict)\n",
    "predict_day = pd.date_range(\"2022-08-01\", \"2022-08-01 23:00\", freq='h', tz='UTC')\n",
    "X = CEDA[CEDA.index.isin(predict_day)]\n",
    "fit_model()"
   ]
  },
  {
   "cell_type": "markdown",
   "metadata": {},
   "source": [
    "# 2. NWP data"
   ]
  },
  {
   "cell_type": "markdown",
   "metadata": {},
   "source": [
    "Case study 1:\n",
    "|   | Source   | Target |\n",
    "|---|----------|--------|\n",
    "| X | CEDA | CEDA|\n",
    "| Y | PVGIS    | Prod NL|"
   ]
  },
  {
   "cell_type": "code",
   "execution_count": null,
   "metadata": {},
   "outputs": [
    {
     "data": {
      "text/html": [
       "<div>\n",
       "<style scoped>\n",
       "    .dataframe tbody tr th:only-of-type {\n",
       "        vertical-align: middle;\n",
       "    }\n",
       "\n",
       "    .dataframe tbody tr th {\n",
       "        vertical-align: top;\n",
       "    }\n",
       "\n",
       "    .dataframe thead th {\n",
       "        text-align: right;\n",
       "    }\n",
       "</style>\n",
       "<table border=\"1\" class=\"dataframe\">\n",
       "  <thead>\n",
       "    <tr style=\"text-align: right;\">\n",
       "      <th></th>\n",
       "      <th>P</th>\n",
       "    </tr>\n",
       "    <tr>\n",
       "      <th>timestamp</th>\n",
       "      <th></th>\n",
       "    </tr>\n",
       "  </thead>\n",
       "  <tbody>\n",
       "    <tr>\n",
       "      <th>2019-08-01 00:00:00+00:00</th>\n",
       "      <td>0.0</td>\n",
       "    </tr>\n",
       "    <tr>\n",
       "      <th>2019-08-01 01:00:00+00:00</th>\n",
       "      <td>0.0</td>\n",
       "    </tr>\n",
       "    <tr>\n",
       "      <th>2019-08-01 02:00:00+00:00</th>\n",
       "      <td>0.0</td>\n",
       "    </tr>\n",
       "    <tr>\n",
       "      <th>2019-08-01 03:00:00+00:00</th>\n",
       "      <td>0.0</td>\n",
       "    </tr>\n",
       "    <tr>\n",
       "      <th>2019-08-01 04:00:00+00:00</th>\n",
       "      <td>7.0</td>\n",
       "    </tr>\n",
       "  </tbody>\n",
       "</table>\n",
       "</div>"
      ],
      "text/plain": [
       "                             P\n",
       "timestamp                     \n",
       "2019-08-01 00:00:00+00:00  0.0\n",
       "2019-08-01 01:00:00+00:00  0.0\n",
       "2019-08-01 02:00:00+00:00  0.0\n",
       "2019-08-01 03:00:00+00:00  0.0\n",
       "2019-08-01 04:00:00+00:00  7.0"
      ]
     },
     "execution_count": 26,
     "metadata": {},
     "output_type": "execute_result"
    }
   ],
   "source": [
    "\n",
    "target_CEDA = CEDA[CEDA.index.isin(target_month)]\n",
    "target_power = power[power.index.isin(target_month)]\n",
    "target_power.head()\n"
   ]
  },
  {
   "cell_type": "code",
   "execution_count": null,
   "metadata": {},
   "outputs": [
    {
     "name": "stdout",
     "output_type": "stream",
     "text": [
      "                             P  temperature_1_5m  relative_humidity_1_5m  \\\n",
      "2018-08-01 00:00:00+00:00  0.0        292.435059               65.144501   \n",
      "2018-08-01 01:00:00+00:00  0.0        292.435059               65.144501   \n",
      "2018-08-01 02:00:00+00:00  0.0        292.435059               65.144501   \n",
      "2018-08-01 03:00:00+00:00  0.0        292.435059               65.144501   \n",
      "2018-08-01 04:00:00+00:00  0.0        292.435059               65.144501   \n",
      "...                        ...               ...                     ...   \n",
      "2018-08-31 19:00:00+00:00  0.0        287.423096               75.732742   \n",
      "2018-08-31 20:00:00+00:00  0.0        286.219971               78.033867   \n",
      "2018-08-31 21:00:00+00:00  0.0        285.416016               76.860329   \n",
      "2018-08-31 22:00:00+00:00  0.0        284.307617               81.826218   \n",
      "2018-08-31 23:00:00+00:00  0.0        283.846680               84.743080   \n",
      "\n",
      "                           total_cloud_amount  diffuse_surface_SW_flux  \\\n",
      "2018-08-01 00:00:00+00:00            0.859375                      0.0   \n",
      "2018-08-01 01:00:00+00:00            0.859375                      0.0   \n",
      "2018-08-01 02:00:00+00:00            0.859375                      0.0   \n",
      "2018-08-01 03:00:00+00:00            0.859375                      0.0   \n",
      "2018-08-01 04:00:00+00:00            0.859375                      0.0   \n",
      "...                                       ...                      ...   \n",
      "2018-08-31 19:00:00+00:00            0.000000                      0.0   \n",
      "2018-08-31 20:00:00+00:00            0.031250                      0.0   \n",
      "2018-08-31 21:00:00+00:00            0.000000                      0.0   \n",
      "2018-08-31 22:00:00+00:00            0.000000                      0.0   \n",
      "2018-08-31 23:00:00+00:00            0.000000                      0.0   \n",
      "\n",
      "                           direct_surface_SW_flux  downward_surface_SW_flux  \\\n",
      "2018-08-01 00:00:00+00:00                     0.0                       0.0   \n",
      "2018-08-01 01:00:00+00:00                     0.0                       0.0   \n",
      "2018-08-01 02:00:00+00:00                     0.0                       0.0   \n",
      "2018-08-01 03:00:00+00:00                     0.0                       0.0   \n",
      "2018-08-01 04:00:00+00:00                     0.0                       0.0   \n",
      "...                                           ...                       ...   \n",
      "2018-08-31 19:00:00+00:00                     0.0                       0.0   \n",
      "2018-08-31 20:00:00+00:00                     0.0                       0.0   \n",
      "2018-08-31 21:00:00+00:00                     0.0                       0.0   \n",
      "2018-08-31 22:00:00+00:00                     0.0                       0.0   \n",
      "2018-08-31 23:00:00+00:00                     0.0                       0.0   \n",
      "\n",
      "                           pressure_MSL  wind_speed_10m  wind_direction_10m  \\\n",
      "2018-08-01 00:00:00+00:00   102088.8750        3.331644           62.330887   \n",
      "2018-08-01 01:00:00+00:00   102088.8750        3.331644           62.330887   \n",
      "2018-08-01 02:00:00+00:00   102088.8750        3.331644           62.330887   \n",
      "2018-08-01 03:00:00+00:00   102088.8750        3.331644           62.330887   \n",
      "2018-08-01 04:00:00+00:00   102088.8750        3.331644           62.330887   \n",
      "...                                 ...             ...                 ...   \n",
      "2018-08-31 19:00:00+00:00   102399.3750        6.384474           80.083725   \n",
      "2018-08-31 20:00:00+00:00   102441.5625        6.076981           78.354172   \n",
      "2018-08-31 21:00:00+00:00   102461.2500        6.524558           78.767845   \n",
      "2018-08-31 22:00:00+00:00   102479.7500        4.711614           77.285973   \n",
      "2018-08-31 23:00:00+00:00   102503.2500        5.435574           73.923279   \n",
      "\n",
      "                           hour_sin  hour_cos  month_sin  month_cos  \\\n",
      "2018-08-01 00:00:00+00:00  0.000000  1.000000  -0.866025       -0.5   \n",
      "2018-08-01 01:00:00+00:00  0.258819  0.965926  -0.866025       -0.5   \n",
      "2018-08-01 02:00:00+00:00  0.500000  0.866025  -0.866025       -0.5   \n",
      "2018-08-01 03:00:00+00:00  0.707107  0.707107  -0.866025       -0.5   \n",
      "2018-08-01 04:00:00+00:00  0.866025  0.500000  -0.866025       -0.5   \n",
      "...                             ...       ...        ...        ...   \n",
      "2018-08-31 19:00:00+00:00 -0.965926  0.258819  -0.866025       -0.5   \n",
      "2018-08-31 20:00:00+00:00 -0.866025  0.500000  -0.866025       -0.5   \n",
      "2018-08-31 21:00:00+00:00 -0.707107  0.707107  -0.866025       -0.5   \n",
      "2018-08-31 22:00:00+00:00 -0.500000  0.866025  -0.866025       -0.5   \n",
      "2018-08-31 23:00:00+00:00 -0.258819  0.965926  -0.866025       -0.5   \n",
      "\n",
      "                           P_24h_shift  \n",
      "2018-08-01 00:00:00+00:00          0.0  \n",
      "2018-08-01 01:00:00+00:00          0.0  \n",
      "2018-08-01 02:00:00+00:00          0.0  \n",
      "2018-08-01 03:00:00+00:00          0.0  \n",
      "2018-08-01 04:00:00+00:00          0.0  \n",
      "...                                ...  \n",
      "2018-08-31 19:00:00+00:00          0.0  \n",
      "2018-08-31 20:00:00+00:00          0.0  \n",
      "2018-08-31 21:00:00+00:00          0.0  \n",
      "2018-08-31 22:00:00+00:00          0.0  \n",
      "2018-08-31 23:00:00+00:00          0.0  \n",
      "\n",
      "[744 rows x 15 columns]\n"
     ]
    }
   ],
   "source": [
    "from Data.Featurisation import Featurisation\n",
    "\n",
    "data = pd.merge(pvgis, CEDA, left_index=True, right_index=True)\n",
    "\n",
    "data = [data] # Put it in a list to work with featurisation object\n",
    "\n",
    "#2. Featurise data & ready for training & testing 7\n",
    "data = Featurisation(data)\n",
    "data.data = data.cyclic_features()\n",
    "data.data = data.add_shift('P')\n",
    "\n",
    "\n",
    "source_dataset = data.data[0]\n",
    "if month_data:\n",
    "    source_dataset = source_dataset[source_dataset.index.isin(month_range)]\n",
    "\n",
    "target_dataset = pd.merge(target_power, target_CEDA, left_index=True, right_index=True, how='inner')\n",
    "data = [target_dataset] # Put it in a list to work with featurisation object\n",
    "\n",
    "#2. Featurise data & ready for training & testing 7\n",
    "data = Featurisation(data)\n",
    "data.data = data.cyclic_features()\n",
    "data.data = data.add_shift('P')\n",
    "\n",
    "target_dataset = data.data[0]\n",
    "print(source_dataset)"
   ]
  },
  {
   "cell_type": "code",
   "execution_count": null,
   "metadata": {},
   "outputs": [
    {
     "name": "stdout",
     "output_type": "stream",
     "text": [
      "['P', 'temperature_1_5m', 'relative_humidity_1_5m', 'total_cloud_amount', 'diffuse_surface_SW_flux', 'direct_surface_SW_flux', 'downward_surface_SW_flux', 'pressure_MSL', 'wind_speed_10m', 'wind_direction_10m', 'hour_sin', 'hour_cos', 'month_sin', 'month_cos', 'P_24h_shift']\n"
     ]
    }
   ],
   "source": [
    "tuning_method = 'whole'\n",
    "source_features = list(source_dataset.columns)\n",
    "print(source_features)"
   ]
  },
  {
   "cell_type": "code",
   "execution_count": null,
   "metadata": {},
   "outputs": [
    {
     "name": "stderr",
     "output_type": "stream",
     "text": [
      "c:\\Users\\Robbe\\PycharmProjects\\SolNet 2\\tensors\\Tensorisation.py:102: FutureWarning: Series.__getitem__ treating keys as positions is deprecated. In a future version, integer keys will always be treated as labels (consistent with DataFrame behavior). To access a value by position, use `ser.iloc[pos]`\n",
      "  X_tensor = torch.tensor(self.data[feature]).type(torch.float32)\n"
     ]
    },
    {
     "name": "stderr",
     "output_type": "stream",
     "text": [
      "c:\\Users\\Robbe\\PycharmProjects\\SolNet 2\\tensors\\Tensorisation.py:122: FutureWarning: Series.__getitem__ treating keys as positions is deprecated. In a future version, integer keys will always be treated as labels (consistent with DataFrame behavior). To access a value by position, use `ser.iloc[pos]`\n",
      "  y_tensor = torch.tensor(self.data['P']).type(torch.float32)\n"
     ]
    },
    {
     "name": "stdout",
     "output_type": "stream",
     "text": [
      "Shape of data:  torch.Size([24, 24, 14]) torch.Size([6, 24, 14]) torch.Size([24, 24, 1]) torch.Size([6, 24, 1])\n",
      "LSTM(\n",
      "  (lstm): LSTM(14, 100, num_layers=4, batch_first=True, dropout=0.3)\n",
      "  (linear): Linear(in_features=100, out_features=24, bias=True)\n",
      ")\n",
      "Step 0: Average train loss: 0.1365 | Average test loss: 0.0951\n",
      "Step 5: Average train loss: 0.0939 | Average test loss: 0.0539\n",
      "Step 10: Average train loss: 0.0428 | Average test loss: 0.0405\n",
      "Step 15: Average train loss: 0.0233 | Average test loss: 0.0186\n",
      "Step 20: Average train loss: 0.0220 | Average test loss: 0.0248\n",
      "Step 25: Average train loss: 0.0198 | Average test loss: 0.0217\n",
      "Step 30: Average train loss: 0.0197 | Average test loss: 0.0187\n",
      "Step 35: Average train loss: 0.0181 | Average test loss: 0.0201\n",
      "Step 40: Average train loss: 0.0182 | Average test loss: 0.0184\n",
      "Step 45: Average train loss: 0.0159 | Average test loss: 0.0161\n",
      "Step 50: Average train loss: 0.0120 | Average test loss: 0.0138\n",
      "Step 55: Average train loss: 0.0112 | Average test loss: 0.0126\n",
      "Step 60: Average train loss: 0.0094 | Average test loss: 0.0128\n",
      "Step 65: Average train loss: 0.0100 | Average test loss: 0.0126\n",
      "Step 70: Average train loss: 0.0085 | Average test loss: 0.0126\n",
      "Step 75: Average train loss: 0.0084 | Average test loss: 0.0126\n",
      "Best Epoch: 59\n",
      "Shape of data:  torch.Size([24, 24, 14]) torch.Size([6, 24, 14]) torch.Size([24, 24, 1]) torch.Size([6, 24, 1])\n",
      "LSTM(\n",
      "  (lstm): LSTM(14, 100, num_layers=4, batch_first=True, dropout=0.3)\n",
      "  (linear): Linear(in_features=100, out_features=24, bias=True)\n",
      ")\n",
      "Step 0: Average train loss: 0.0101 | Average test loss: 0.0078\n",
      "Step 5: Average train loss: 0.0108 | Average test loss: 0.0092\n",
      "Step 10: Average train loss: 0.0088 | Average test loss: 0.0077\n",
      "Step 15: Average train loss: 0.0090 | Average test loss: 0.0065\n",
      "Step 20: Average train loss: 0.0085 | Average test loss: 0.0074\n",
      "Step 25: Average train loss: 0.0081 | Average test loss: 0.0066\n",
      "Step 30: Average train loss: 0.0085 | Average test loss: 0.0065\n",
      "Step 35: Average train loss: 0.0080 | Average test loss: 0.0069\n",
      "Step 40: Average train loss: 0.0078 | Average test loss: 0.0066\n",
      "Step 45: Average train loss: 0.0078 | Average test loss: 0.0074\n",
      "Step 50: Average train loss: 0.0073 | Average test loss: 0.0064\n",
      "Step 55: Average train loss: 0.0073 | Average test loss: 0.0074\n",
      "Step 60: Average train loss: 0.0072 | Average test loss: 0.0070\n",
      "Step 65: Average train loss: 0.0070 | Average test loss: 0.0073\n",
      "Step 70: Average train loss: 0.0068 | Average test loss: 0.0076\n",
      "Step 75: Average train loss: 0.0068 | Average test loss: 0.0073\n",
      "Best Epoch: 13\n"
     ]
    },
    {
     "data": {
      "image/png": "[encoded data removed]",
      "text/plain": [
       "<Figure size 640x480 with 1 Axes>"
      ]
     },
     "metadata": {},
     "output_type": "display_data"
    }
   ],
   "source": [
    "source_state_dict, target_state_dict = forecast_maker(source_dataset, target_dataset, tuning_method, source_features)"
   ]
  }
 ],
 "metadata": {
  "kernelspec": {
   "display_name": "SolNet",
   "language": "python",
   "name": "python3"
  },
  "language_info": {
   "codemirror_mode": {
    "name": "ipython",
    "version": 3
   },
   "file_extension": ".py",
   "mimetype": "text/x-python",
   "name": "python",
   "nbconvert_exporter": "python",
   "pygments_lexer": "ipython3",
   "version": "3.12.2"
  }
 },
 "nbformat": 4,
 "nbformat_minor": 2
}
