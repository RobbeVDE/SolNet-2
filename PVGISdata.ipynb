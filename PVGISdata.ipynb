{
 "cells": [
  {
   "cell_type": "code",
   "execution_count": 1,
   "metadata": {},
   "outputs": [
    {
     "name": "stdout",
     "output_type": "stream",
     "text": [
      "Gathering data from base location...\n"
     ]
    }
   ],
   "source": [
    "# Import the datafetcher class\n",
    "from DataFetcher import DataFetcher\n",
    "\n",
    "# Set parameters\n",
    "latitude = 50.994716\n",
    "longitude = 5.539433\n",
    "peakPower = 2.4\n",
    "tilt = 33\n",
    "azimuth = 0\n",
    "\n",
    "# Fetch data from PVGIS\n",
    "data = DataFetcher(latitude,longitude,peakPower,tilt,azimuth,locations=1)\n",
    "\n",
    "# Save the data in the data folder\n",
    "#path = data.save_data()\n",
    "#path"
   ]
  },
  {
   "cell_type": "code",
   "execution_count": 13,
   "metadata": {},
   "outputs": [
    {
     "name": "stdout",
     "output_type": "stream",
     "text": [
      "DatetimeIndex(['2005-01-01 00:00:00+00:00', '2005-01-01 01:00:00+00:00',\n",
      "               '2005-01-01 02:00:00+00:00', '2005-01-01 03:00:00+00:00',\n",
      "               '2005-01-01 04:00:00+00:00', '2005-01-01 05:00:00+00:00',\n",
      "               '2005-01-01 06:00:00+00:00', '2005-01-01 07:00:00+00:00',\n",
      "               '2005-01-01 08:00:00+00:00', '2005-01-01 09:00:00+00:00',\n",
      "               ...\n",
      "               '2020-12-31 14:00:00+00:00', '2020-12-31 15:00:00+00:00',\n",
      "               '2020-12-31 16:00:00+00:00', '2020-12-31 17:00:00+00:00',\n",
      "               '2020-12-31 18:00:00+00:00', '2020-12-31 19:00:00+00:00',\n",
      "               '2020-12-31 20:00:00+00:00', '2020-12-31 21:00:00+00:00',\n",
      "               '2020-12-31 22:00:00+00:00', '2020-12-31 23:00:00+00:00'],\n",
      "              dtype='datetime64[ns, UTC]', name='time', length=140256, freq=None)\n"
     ]
    }
   ],
   "source": [
    "pvgis = data.dataset[0]\n",
    "pvgis = pvgis.tz_localize('UTC')\n",
    "print(pvgis.index)"
   ]
  },
  {
   "cell_type": "code",
   "execution_count": 14,
   "metadata": {},
   "outputs": [],
   "source": [
    "import pickle\n",
    "with open('Data/PVGIS.pickle', 'wb') as f:\n",
    "    pickle.dump(data.dataset[0], f, pickle.HIGHEST_PROTOCOL)"
   ]
  },
  {
   "cell_type": "code",
   "execution_count": 15,
   "metadata": {},
   "outputs": [
    {
     "data": {
      "text/html": [
       "<div>\n",
       "<style scoped>\n",
       "    .dataframe tbody tr th:only-of-type {\n",
       "        vertical-align: middle;\n",
       "    }\n",
       "\n",
       "    .dataframe tbody tr th {\n",
       "        vertical-align: top;\n",
       "    }\n",
       "\n",
       "    .dataframe thead th {\n",
       "        text-align: right;\n",
       "    }\n",
       "</style>\n",
       "<table border=\"1\" class=\"dataframe\">\n",
       "  <thead>\n",
       "    <tr style=\"text-align: right;\">\n",
       "      <th></th>\n",
       "      <th>P</th>\n",
       "      <th>Gb(i)</th>\n",
       "      <th>Gd(i)</th>\n",
       "      <th>Gr(i)</th>\n",
       "      <th>H_sun</th>\n",
       "      <th>T2m</th>\n",
       "      <th>WS10m</th>\n",
       "      <th>Int</th>\n",
       "    </tr>\n",
       "    <tr>\n",
       "      <th>time</th>\n",
       "      <th></th>\n",
       "      <th></th>\n",
       "      <th></th>\n",
       "      <th></th>\n",
       "      <th></th>\n",
       "      <th></th>\n",
       "      <th></th>\n",
       "      <th></th>\n",
       "    </tr>\n",
       "  </thead>\n",
       "  <tbody>\n",
       "    <tr>\n",
       "      <th>2020-12-31 19:00:00</th>\n",
       "      <td>0.0</td>\n",
       "      <td>0.0</td>\n",
       "      <td>0.0</td>\n",
       "      <td>0.0</td>\n",
       "      <td>0.0</td>\n",
       "      <td>2.20</td>\n",
       "      <td>1.72</td>\n",
       "      <td>0</td>\n",
       "    </tr>\n",
       "    <tr>\n",
       "      <th>2020-12-31 20:00:00</th>\n",
       "      <td>0.0</td>\n",
       "      <td>0.0</td>\n",
       "      <td>0.0</td>\n",
       "      <td>0.0</td>\n",
       "      <td>0.0</td>\n",
       "      <td>2.12</td>\n",
       "      <td>1.72</td>\n",
       "      <td>0</td>\n",
       "    </tr>\n",
       "    <tr>\n",
       "      <th>2020-12-31 21:00:00</th>\n",
       "      <td>0.0</td>\n",
       "      <td>0.0</td>\n",
       "      <td>0.0</td>\n",
       "      <td>0.0</td>\n",
       "      <td>0.0</td>\n",
       "      <td>2.01</td>\n",
       "      <td>1.72</td>\n",
       "      <td>0</td>\n",
       "    </tr>\n",
       "    <tr>\n",
       "      <th>2020-12-31 22:00:00</th>\n",
       "      <td>0.0</td>\n",
       "      <td>0.0</td>\n",
       "      <td>0.0</td>\n",
       "      <td>0.0</td>\n",
       "      <td>0.0</td>\n",
       "      <td>1.97</td>\n",
       "      <td>1.79</td>\n",
       "      <td>0</td>\n",
       "    </tr>\n",
       "    <tr>\n",
       "      <th>2020-12-31 23:00:00</th>\n",
       "      <td>0.0</td>\n",
       "      <td>0.0</td>\n",
       "      <td>0.0</td>\n",
       "      <td>0.0</td>\n",
       "      <td>0.0</td>\n",
       "      <td>1.94</td>\n",
       "      <td>1.86</td>\n",
       "      <td>0</td>\n",
       "    </tr>\n",
       "  </tbody>\n",
       "</table>\n",
       "</div>"
      ],
      "text/plain": [
       "                       P  Gb(i)  Gd(i)  Gr(i)  H_sun   T2m  WS10m  Int\n",
       "time                                                                  \n",
       "2020-12-31 19:00:00  0.0    0.0    0.0    0.0    0.0  2.20   1.72    0\n",
       "2020-12-31 20:00:00  0.0    0.0    0.0    0.0    0.0  2.12   1.72    0\n",
       "2020-12-31 21:00:00  0.0    0.0    0.0    0.0    0.0  2.01   1.72    0\n",
       "2020-12-31 22:00:00  0.0    0.0    0.0    0.0    0.0  1.97   1.79    0\n",
       "2020-12-31 23:00:00  0.0    0.0    0.0    0.0    0.0  1.94   1.86    0"
      ]
     },
     "execution_count": 15,
     "metadata": {},
     "output_type": "execute_result"
    }
   ],
   "source": [
    "data.dataset[0].tail()"
   ]
  }
 ],
 "metadata": {
  "kernelspec": {
   "display_name": "base",
   "language": "python",
   "name": "python3"
  },
  "language_info": {
   "codemirror_mode": {
    "name": "ipython",
    "version": 3
   },
   "file_extension": ".py",
   "mimetype": "text/x-python",
   "name": "python",
   "nbconvert_exporter": "python",
   "pygments_lexer": "ipython3",
   "version": "3.9.18"
  }
 },
 "nbformat": 4,
 "nbformat_minor": 2
}
