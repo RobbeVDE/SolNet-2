{
 "cells": [
  {
   "cell_type": "code",
   "execution_count": 1,
   "metadata": {},
   "outputs": [],
   "source": [
    "from matplotlib import pyplot as plt\n",
    "import pandas as pd\n"
   ]
  },
  {
   "cell_type": "code",
   "execution_count": 2,
   "metadata": {},
   "outputs": [
    {
     "name": "stdout",
     "output_type": "stream",
     "text": [
      "Gathering data from base location...\n"
     ]
    }
   ],
   "source": [
    "# Import the datafetcher class\n",
    "from Data.DataFetcher import DataFetcher\n",
    "\n",
    "installation_int = 0\n",
    "if installation_int == 2:\n",
    "    raddata = \"PVGIS-ERA5\" #For Costa Rica we cannot use default because default only goes to 2015\n",
    "else:\n",
    "    raddata = None\n",
    "# Set parameters\n",
    "metadata = pd.read_pickle(\"Data/Sites/metadata.pkl\")\n",
    "metadata = metadata.loc[installation_int]\n",
    "peakPower = metadata['Installed Power'] /1000\n",
    "tilt = metadata['Tilt']\n",
    "azimuth = metadata['Azimuth']\n",
    "lat = metadata['Latitude']\n",
    "lon = metadata['Longitude']\n",
    "\n",
    "\n",
    "# Fetch data from PVGIS\n",
    "data = DataFetcher(lat,lon,peakPower,tilt,azimuth,locations=1, raddatabase=raddata, end_date=2020)\n",
    "\n",
    "# Save the data in the data folder\n",
    "#path = data.save_data()\n",
    "#path"
   ]
  },
  {
   "cell_type": "code",
   "execution_count": 3,
   "metadata": {},
   "outputs": [
    {
     "name": "stdout",
     "output_type": "stream",
     "text": [
      "DatetimeIndex(['2005-01-01 00:00:00+00:00', '2005-01-01 01:00:00+00:00',\n",
      "               '2005-01-01 02:00:00+00:00', '2005-01-01 03:00:00+00:00',\n",
      "               '2005-01-01 04:00:00+00:00', '2005-01-01 05:00:00+00:00',\n",
      "               '2005-01-01 06:00:00+00:00', '2005-01-01 07:00:00+00:00',\n",
      "               '2005-01-01 08:00:00+00:00', '2005-01-01 09:00:00+00:00',\n",
      "               ...\n",
      "               '2020-12-31 14:00:00+00:00', '2020-12-31 15:00:00+00:00',\n",
      "               '2020-12-31 16:00:00+00:00', '2020-12-31 17:00:00+00:00',\n",
      "               '2020-12-31 18:00:00+00:00', '2020-12-31 19:00:00+00:00',\n",
      "               '2020-12-31 20:00:00+00:00', '2020-12-31 21:00:00+00:00',\n",
      "               '2020-12-31 22:00:00+00:00', '2020-12-31 23:00:00+00:00'],\n",
      "              dtype='datetime64[ns, UTC]', name='time', length=140256, freq=None)\n"
     ]
    }
   ],
   "source": [
    "pvgis = data.dataset[0]\n",
    "pvgis = pvgis.tz_localize('UTC')\n",
    "pvgis = pvgis.xs(\"P\", axis=1)\n",
    "print(pvgis.index)\n",
    "pvgis.to_pickle(f'Data/Sites/PVGIS_{installation_int}.pkl')"
   ]
  }
 ],
 "metadata": {
  "kernelspec": {
   "display_name": "Python 3.12.2 ('solnet')",
   "language": "python",
   "name": "python3"
  },
  "language_info": {
   "codemirror_mode": {
    "name": "ipython",
    "version": 3
   },
   "file_extension": ".py",
   "mimetype": "text/x-python",
   "name": "python",
   "nbconvert_exporter": "python",
   "pygments_lexer": "ipython3",
   "version": "3.12.2"
  },
  "vscode": {
   "interpreter": {
    "hash": "02543bb0ef14551c549047461536d109a34ccf1dceeb84fa14a9d60c3d57cc93"
   }
  }
 },
 "nbformat": 4,
 "nbformat_minor": 2
}
